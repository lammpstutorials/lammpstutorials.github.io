{
 "cells": [
  {
   "cell_type": "code",
   "execution_count": 8,
   "id": "9e485e34",
   "metadata": {},
   "outputs": [],
   "source": [
    "import numpy as np"
   ]
  },
  {
   "cell_type": "code",
   "execution_count": 9,
   "id": "5854bcce",
   "metadata": {},
   "outputs": [
    {
     "name": "stdout",
     "output_type": "stream",
     "text": [
      "The shear rate is 16.666666666666664 ns-1\n"
     ]
    }
   ],
   "source": [
    "velocity = 20 # m/s\n",
    "h = 1.2e-9 # m (approximatix)\n",
    "gamma_dot = velocity/h\n",
    "print(\"The shear rate is\", gamma_dot/1e9, \"ns-1\")"
   ]
  },
  {
   "cell_type": "code",
   "execution_count": 10,
   "id": "f452151c",
   "metadata": {},
   "outputs": [
    {
     "name": "stdout",
     "output_type": "stream",
     "text": [
      "The stress per surface 110725.713 kPa\n"
     ]
    }
   ],
   "source": [
    "surface_area = (2*12.12e-10)**2 #m2\n",
    "#atom_per_surface = 640\n",
    "force = np.loadtxt(\"forces.dat\")\n",
    "mean_total_force = (-np.mean(force.T[1])+np.mean(force.T[2]))/2 #kcal/mol/A\n",
    "mean_total_force *= 4184 # J/mol/A\n",
    "mean_total_force /= 6.022e23 # J/A\n",
    "mean_total_force *= 1e10 # J/m = N\n",
    "tau = mean_total_force / surface_area # Pa\n",
    "print(\"The stress per surface\", np.round(tau/1000,3), \"kPa\")"
   ]
  },
  {
   "cell_type": "code",
   "execution_count": 11,
   "id": "e4500963",
   "metadata": {},
   "outputs": [
    {
     "data": {
      "text/plain": [
       "5.875775999999999e-18"
      ]
     },
     "execution_count": 11,
     "metadata": {},
     "output_type": "execute_result"
    }
   ],
   "source": [
    "surface_area"
   ]
  },
  {
   "cell_type": "code",
   "execution_count": 12,
   "id": "73d540eb",
   "metadata": {},
   "outputs": [
    {
     "name": "stdout",
     "output_type": "stream",
     "text": [
      "The shear viscosity is 6.64 mPa s\n"
     ]
    }
   ],
   "source": [
    "eta = tau / gamma_dot\n",
    "print(\"The shear viscosity is\", np.round(eta*1000,2), \"mPa s\")"
   ]
  }
 ],
 "metadata": {
  "kernelspec": {
   "display_name": "Python 3.10.6 64-bit",
   "language": "python",
   "name": "python3"
  },
  "language_info": {
   "codemirror_mode": {
    "name": "ipython",
    "version": 3
   },
   "file_extension": ".py",
   "mimetype": "text/x-python",
   "name": "python",
   "nbconvert_exporter": "python",
   "pygments_lexer": "ipython3",
   "version": "3.11.4"
  },
  "vscode": {
   "interpreter": {
    "hash": "916dbcbb3f70747c44a77c7bcd40155683ae19c65e1c03b4aa3499c5328201f1"
   }
  }
 },
 "nbformat": 4,
 "nbformat_minor": 5
}
