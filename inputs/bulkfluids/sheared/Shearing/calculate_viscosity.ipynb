{
 "cells": [
  {
   "cell_type": "code",
   "execution_count": 1,
   "id": "9e485e34",
   "metadata": {},
   "outputs": [],
   "source": [
    "import numpy as np"
   ]
  },
  {
   "cell_type": "code",
   "execution_count": 5,
   "id": "5854bcce",
   "metadata": {},
   "outputs": [
    {
     "name": "stdout",
     "output_type": "stream",
     "text": [
      "The shear rate is 6.25 ns-1\n"
     ]
    }
   ],
   "source": [
    "velocity = 20 # m/s\n",
    "h = 3.2e-9 # m (approximatix)\n",
    "gamma_dot = velocity/h\n",
    "print(\"The shear rate is\", gamma_dot/1e9, \"ns-1\")"
   ]
  },
  {
   "cell_type": "code",
   "execution_count": 6,
   "id": "f452151c",
   "metadata": {},
   "outputs": [
    {
     "name": "stdout",
     "output_type": "stream",
     "text": [
      "The stress per surface 15934.403 kPa\n"
     ]
    }
   ],
   "source": [
    "surface_area = (2*16.16e-10)**2 #m2\n",
    "#atom_per_surface = 640\n",
    "force = np.loadtxt(\"forces.dat\")\n",
    "mean_total_force = (-np.mean(force.T[1])+np.mean(force.T[2]))/2 #kcal/mol/A\n",
    "mean_total_force *= 4184 # J/mol/A\n",
    "mean_total_force /= 6.022e23 # J/A\n",
    "mean_total_force *= 1e10 # J/m = N\n",
    "tau = mean_total_force / surface_area # Pa\n",
    "print(\"The stress per surface\", np.round(tau/1000,3), \"kPa\")"
   ]
  },
  {
   "cell_type": "code",
   "execution_count": 7,
   "id": "73d540eb",
   "metadata": {},
   "outputs": [
    {
     "name": "stdout",
     "output_type": "stream",
     "text": [
      "The shear viscosity is 2.55 mPa s\n"
     ]
    }
   ],
   "source": [
    "eta = tau / gamma_dot\n",
    "print(\"The shear viscosity is\", np.round(eta*1000,2), \"mPa s\")"
   ]
  }
 ],
 "metadata": {
  "kernelspec": {
   "display_name": "Python 3.10.6 64-bit",
   "language": "python",
   "name": "python3"
  },
  "language_info": {
   "codemirror_mode": {
    "name": "ipython",
    "version": 3
   },
   "file_extension": ".py",
   "mimetype": "text/x-python",
   "name": "python",
   "nbconvert_exporter": "python",
   "pygments_lexer": "ipython3",
   "version": "3.10.7"
  },
  "vscode": {
   "interpreter": {
    "hash": "916dbcbb3f70747c44a77c7bcd40155683ae19c65e1c03b4aa3499c5328201f1"
   }
  }
 },
 "nbformat": 4,
 "nbformat_minor": 5
}
