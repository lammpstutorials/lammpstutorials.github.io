{
 "cells": [
  {
   "cell_type": "code",
   "execution_count": 25,
   "metadata": {},
   "outputs": [],
   "source": [
    "import os\n",
    "import MDAnalysis as mda\n",
    "import numpy as np\n",
    "from tqdm import tqdm\n",
    "from matplotlib import pyplot as plt\n",
    "from MDAnalysis.analysis.hydrogenbonds.hbond_analysis import HydrogenBondAnalysis as HBA"
   ]
  },
  {
   "cell_type": "markdown",
   "metadata": {},
   "source": [
    "# Parameters"
   ]
  },
  {
   "cell_type": "code",
   "execution_count": 26,
   "metadata": {},
   "outputs": [],
   "source": [
    "ac = 120\n",
    "dh = 1\n",
    "da = 3\n",
    "PEG = \"type 4\"\n",
    "H2O = \"type 2\""
   ]
  },
  {
   "cell_type": "code",
   "execution_count": 27,
   "metadata": {},
   "outputs": [],
   "source": [
    "conf = \"pullonPEG/pull.data\"\n",
    "traj = \"pullonPEG/traj.xtc\"\n",
    "v = mda.Universe(conf, traj)\n",
    "#v.transfer_to_memory()\n",
    "hbds_type1_f10 = HBA(universe=v,\n",
    "                hydrogens_sel=H2O,\n",
    "                acceptors_sel=PEG,\n",
    "                d_h_cutoff = dh, \n",
    "                d_a_cutoff = da, \n",
    "                d_h_a_angle_cutoff = ac).run()\n",
    "result_hbds_type1_f10 = hbds_type1_f10.results.hbonds"
   ]
  },
  {
   "cell_type": "code",
   "execution_count": 28,
   "metadata": {},
   "outputs": [
    {
     "name": "stdout",
     "output_type": "stream",
     "text": [
      "Number of HB = 29770\n",
      "Number of bridge = 6316\n"
     ]
    }
   ],
   "source": [
    "nb_bond = 0\n",
    "nb_bridge = 0\n",
    "all_bridge = []\n",
    "all_bond = []\n",
    "for t in np.unique(result_hbds_type1_f10.T[0]):\n",
    "    frame_hbds_f10 = result_hbds_type1_f10[result_hbds_type1_f10.T[0] == t]\n",
    "    donnor = frame_hbds_f10.T[1]\n",
    "    hydrogen = frame_hbds_f10.T[2]\n",
    "    acceptor = frame_hbds_f10.T[3]\n",
    "        \n",
    "    bridge_per_frame = 0\n",
    "    for mydonnor in np.unique(donnor):\n",
    "        occurence = np.sum(donnor == mydonnor)\n",
    "        list_donnor = donnor[donnor == mydonnor]\n",
    "        list_hydrogen = hydrogen[donnor == mydonnor]\n",
    "        list_acceptor = acceptor[donnor == mydonnor]\n",
    "        \n",
    "        nb_bond += len(list_donnor)\n",
    "        if len(np.unique(list_hydrogen)) == 2:\n",
    "            nb_bridge += 1\n",
    "            bridge_per_frame += 1\n",
    "    all_bridge.append(bridge_per_frame)\n",
    "    all_bond.append(len(frame_hbds_f10))\n",
    "print(\"Number of HB = \" + str(nb_bond))\n",
    "print(\"Number of bridge = \" + str(nb_bridge * 2))"
   ]
  },
  {
   "cell_type": "code",
   "execution_count": 31,
   "metadata": {},
   "outputs": [
    {
     "data": {
      "text/plain": [
       "array([725.])"
      ]
     },
     "execution_count": 31,
     "metadata": {},
     "output_type": "execute_result"
    }
   ],
   "source": [
    "list_hydrogen"
   ]
  },
  {
   "cell_type": "code",
   "execution_count": 30,
   "metadata": {},
   "outputs": [
    {
     "data": {
      "text/plain": [
       "[<matplotlib.lines.Line2D at 0x14e174a32c10>]"
      ]
     },
     "execution_count": 30,
     "metadata": {},
     "output_type": "execute_result"
    },
    {
     "data": {
      "image/png": "[encoded data removed]",
      "text/plain": [
       "<Figure size 432x288 with 1 Axes>"
      ]
     },
     "metadata": {
      "needs_background": "light"
     },
     "output_type": "display_data"
    }
   ],
   "source": [
    "plt.plot(all_bond, 'o')"
   ]
  },
  {
   "cell_type": "code",
   "execution_count": null,
   "metadata": {},
   "outputs": [],
   "source": []
  }
 ],
 "metadata": {
  "kernelspec": {
   "display_name": "Python 3.8.10 64-bit",
   "language": "python",
   "name": "python3"
  },
  "language_info": {
   "codemirror_mode": {
    "name": "ipython",
    "version": 3
   },
   "file_extension": ".py",
   "mimetype": "text/x-python",
   "name": "python",
   "nbconvert_exporter": "python",
   "pygments_lexer": "ipython3",
   "version": "3.8.10"
  },
  "vscode": {
   "interpreter": {
    "hash": "916dbcbb3f70747c44a77c7bcd40155683ae19c65e1c03b4aa3499c5328201f1"
   }
  }
 },
 "nbformat": 4,
 "nbformat_minor": 4
}
