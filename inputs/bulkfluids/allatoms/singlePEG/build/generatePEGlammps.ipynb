{
 "cells": [
  {
   "cell_type": "code",
   "execution_count": 5,
   "metadata": {},
   "outputs": [],
   "source": [
    "import numpy as np\n",
    "import warnings\n",
    "warnings.filterwarnings('ignore')"
   ]
  },
  {
   "cell_type": "markdown",
   "metadata": {},
   "source": [
    "### number of segments for the PEG molecules"
   ]
  },
  {
   "cell_type": "code",
   "execution_count": 6,
   "metadata": {},
   "outputs": [],
   "source": [
    "Nseg = 8"
   ]
  },
  {
   "cell_type": "markdown",
   "metadata": {},
   "source": [
    "### box size"
   ]
  },
  {
   "cell_type": "code",
   "execution_count": 7,
   "metadata": {},
   "outputs": [],
   "source": [
    "Lx, Ly, Lz = 21.662*2, 8.123*2, 8.123*2"
   ]
  },
  {
   "cell_type": "markdown",
   "metadata": {},
   "source": [
    "### load end-groups (head) and monomere up and down"
   ]
  },
  {
   "cell_type": "code",
   "execution_count": 8,
   "metadata": {},
   "outputs": [],
   "source": [
    "endpatch = np.loadtxt('DATA/endpatch')\n",
    "monomer = np.loadtxt('DATA/monomer')\n",
    "v = 0.28 # distance between 2 monomers"
   ]
  },
  {
   "cell_type": "markdown",
   "metadata": {},
   "source": [
    "### place number of segments"
   ]
  },
  {
   "cell_type": "code",
   "execution_count": 9,
   "metadata": {},
   "outputs": [
    {
     "name": "stdout",
     "output_type": "stream",
     "text": [
      "18 carbon\n",
      "8 bulk oxygen\n",
      "36 bulk hydrogen\n",
      "2 surface oxygen\n",
      "2 surface hydrogen\n"
     ]
    }
   ],
   "source": [
    "atoms = np.zeros((10000,7))\n",
    "cptatoms = 0\n",
    "# place patch 1\n",
    "for m in endpatch:\n",
    "    atoms[cptatoms] = cptatoms+1, 1, m[1], m[2], -m[3]-v, -m[4], m[5]\n",
    "    cptatoms += 1\n",
    "# place N monomers\n",
    "for seg in range(Nseg):\n",
    "    for m in monomer:\n",
    "        atoms[cptatoms] = cptatoms+1, 1, m[1], m[2], m[3]+seg*v*2, m[4], m[5]\n",
    "        cptatoms += 1   \n",
    "# place patch 2\n",
    "for m in endpatch:\n",
    "    atoms[cptatoms] = cptatoms+1, 1, m[1], m[2], m[3]+(2*seg)*v+v, m[4], m[5]\n",
    "    cptatoms += 1\n",
    "atoms = atoms[:cptatoms]\n",
    "atoms.T[4] *= 10 # to Angstroms\n",
    "atoms.T[5] *= 10 # to Angstroms\n",
    "atoms.T[6] *= 10 # to Angstroms\n",
    "car = atoms[atoms.T[2] == 1] # CC32A (bulk carbon)\n",
    "hyd = atoms[(atoms.T[2] == 3) | (atoms.T[2] == 5)] # 3 = HCA2 (bulk hydrogen), 5 = HCP1 (surface hydrogen)\n",
    "oxy = atoms[(atoms.T[2] == 2) | (atoms.T[2] == 4)] # 2 = OC30A (bulk hydrogen), 4 = OC311 (surface oxygen)\n",
    "print(str(len(atoms[(atoms.T[2] == 1)])) + \" carbon\") \n",
    "print(str(len(atoms[(atoms.T[2] == 2)])) + \" bulk oxygen\")\n",
    "print(str(len(atoms[(atoms.T[2] == 3)])) + \" bulk hydrogen\")\n",
    "print(str(len(atoms[(atoms.T[2] == 4)])) + \" surface oxygen\")\n",
    "print(str(len(atoms[(atoms.T[2] == 5)])) + \" surface hydrogen\")     "
   ]
  },
  {
   "cell_type": "code",
   "execution_count": 10,
   "metadata": {},
   "outputs": [],
   "source": [
    "conversion_table = [[\"CC32A\", \"OC30A\", \"HCA2\", \"OC311\", \"HCP1\"], [1, 2, 3, 4, 5]]"
   ]
  },
  {
   "cell_type": "markdown",
   "metadata": {},
   "source": [
    "### center PEG in box"
   ]
  },
  {
   "cell_type": "code",
   "execution_count": 11,
   "metadata": {},
   "outputs": [],
   "source": [
    "atoms.T[4] -= np.mean(atoms.T[4])\n",
    "atoms.T[5] -= np.mean(atoms.T[5])\n",
    "atoms.T[6] -= np.mean(atoms.T[6])"
   ]
  },
  {
   "cell_type": "markdown",
   "metadata": {},
   "source": [
    "### estimate molar mass"
   ]
  },
  {
   "cell_type": "code",
   "execution_count": 12,
   "metadata": {},
   "outputs": [
    {
     "name": "stdout",
     "output_type": "stream",
     "text": [
      "PEG - 414 g/mol\n"
     ]
    }
   ],
   "source": [
    "molmass = len(car)*12+len(oxy)*16+len(hyd)*1\n",
    "print('PEG - '+str(molmass)+' g/mol')"
   ]
  },
  {
   "cell_type": "markdown",
   "metadata": {},
   "source": [
    "### add bonds"
   ]
  },
  {
   "cell_type": "code",
   "execution_count": 13,
   "metadata": {},
   "outputs": [
    {
     "name": "stdout",
     "output_type": "stream",
     "text": [
      "9 carbon - carbon bonds\n"
     ]
    }
   ],
   "source": [
    "bonds = np.zeros((10000,2))\n",
    "bond_types = np.zeros((10000))\n",
    "cptbonds = 0\n",
    "# carbon - carbon bonds between monomers (CC32A - CC32A)\n",
    "ccbonds = 0\n",
    "for idx0 in np.int32(car.T[0][:-1:2]):\n",
    "    idx1 = np.int32(car.T[0][np.where(car.T[0] == idx0)[0][0]+1])\n",
    "    if idx0<idx1:\n",
    "        bonds[cptbonds] = idx0, idx1\n",
    "    else:\n",
    "        bonds[cptbonds] = idx1, idx0\n",
    "    bond_types[cptbonds] = 1\n",
    "    cptbonds += 1\n",
    "    ccbonds += 1\n",
    "print(str(ccbonds) + \" carbon - carbon bonds\")"
   ]
  },
  {
   "cell_type": "code",
   "execution_count": 14,
   "metadata": {},
   "outputs": [
    {
     "name": "stdout",
     "output_type": "stream",
     "text": [
      "16 bulk oxygen - carbon bond\n",
      "2 surface oxygen - carbon bond\n"
     ]
    }
   ],
   "source": [
    "# carbon - oxygen bonds\n",
    "xyz = car.T[4:].T\n",
    "cobonds = 0\n",
    "co_surf_bonds = 0\n",
    "for n0 in range(len(oxy)):\n",
    "    xyz0 = oxy[n0][4:]\n",
    "    idx0 = np.int32(oxy[n0][0])\n",
    "    d = np.sqrt((xyz.T[0]-xyz0[0])**2+(xyz.T[1]-xyz0[1])**2+(xyz.T[2]-xyz0[2])**2)\n",
    "    where = np.where((d > 0) & (d < 1.5))\n",
    "    for w in where[0]:\n",
    "        idx1 = np.int32(car[w][0])\n",
    "        if idx0<idx1:\n",
    "            bonds[cptbonds] = idx0, idx1\n",
    "        else:\n",
    "            bonds[cptbonds] = idx1, idx0\n",
    "        type1 =  oxy[n0][2]\n",
    "        type2 =  car[w][2]\n",
    "        if (type1 == 4) & (type2 == 1): # surface oxygen with carbon (OC311 - CC32A)\n",
    "            bond_types[cptbonds] = 4\n",
    "            co_surf_bonds += 1\n",
    "        elif (type1 == 2) & (type2 == 1): # bulk oxygen with carbon (OC30A - CC32A)\n",
    "            bond_types[cptbonds] = 3\n",
    "            cobonds += 1\n",
    "        cptbonds += 1\n",
    "print(str(cobonds) + \" bulk oxygen - carbon bond\")\n",
    "print(str(co_surf_bonds) + \" surface oxygen - carbon bond\")"
   ]
  },
  {
   "cell_type": "code",
   "execution_count": 15,
   "metadata": {},
   "outputs": [
    {
     "name": "stdout",
     "output_type": "stream",
     "text": [
      "36 bulk hydrogen - carbon bond\n"
     ]
    }
   ],
   "source": [
    "# carbon - hydrogen bonds\n",
    "xyz = car.T[4:].T\n",
    "chbonds = 0\n",
    "for n0 in range(len(hyd)):\n",
    "    xyz0 = hyd[n0][4:]\n",
    "    idx0 = np.int32(hyd[n0][0])\n",
    "    d = np.sqrt((xyz.T[0]-xyz0[0])**2+(xyz.T[1]-xyz0[1])**2+(xyz.T[2]-xyz0[2])**2)\n",
    "    where = np.where((d > 0) & (d < 1.1))[0]\n",
    "    if where.shape == (1,):\n",
    "        idx1 = car[where][0][0]\n",
    "        if idx0<idx1:\n",
    "            bonds[cptbonds] = idx0, idx1\n",
    "        else:\n",
    "            bonds[cptbonds] = idx1, idx0\n",
    "        type1 =  hyd[n0][2]\n",
    "        type2 =  car[where[0]][2] \n",
    "        assert type1 == 3\n",
    "        assert type2 == 1\n",
    "        bond_types[cptbonds] = 3 # bulk carbon with hydrogen (CC32A - HCA2)\n",
    "        cptbonds += 1\n",
    "        chbonds += 1\n",
    "print(str(chbonds) + \" bulk hydrogen - carbon bond\")"
   ]
  },
  {
   "cell_type": "code",
   "execution_count": 16,
   "metadata": {},
   "outputs": [
    {
     "name": "stdout",
     "output_type": "stream",
     "text": [
      "2 surface oxygen - hydrogen bond\n"
     ]
    }
   ],
   "source": [
    "# oxygen - hydrogen bonds\n",
    "xyz = oxy.T[4:].T\n",
    "ohbonds = 0\n",
    "for n0 in range(len(hyd)):\n",
    "    xyz0 = hyd[n0][4:]\n",
    "    idx0 = np.int32(hyd[n0][0])\n",
    "    d = np.sqrt((xyz.T[0]-xyz0[0])**2+(xyz.T[1]-xyz0[1])**2+(xyz.T[2]-xyz0[2])**2)\n",
    "    where = np.where((d > 0) & (d < 1.1))[0]\n",
    "    if where.shape == (1,):\n",
    "        idx1 = oxy[where][0][0]\n",
    "        if idx0<idx1:\n",
    "            bonds[cptbonds] = idx0, idx1\n",
    "        else:\n",
    "            bonds[cptbonds] = idx1, idx0\n",
    "        type1 =  hyd[n0][2]\n",
    "        type2 =  oxy[where[0]][2] \n",
    "        bond_types[cptbonds] = 5 # surface oxygen with hydrogen (OC311 - HCP1)            \n",
    "        cptbonds += 1  \n",
    "        ohbonds += 1\n",
    "#bonds = bonds[bonds[:, 0].argsort()]\n",
    "print(str(ohbonds) + \" surface oxygen - hydrogen bond\")"
   ]
  },
  {
   "cell_type": "code",
   "execution_count": 17,
   "metadata": {},
   "outputs": [],
   "source": [
    "# remove excess lines and reorder\n",
    "bonds = bonds[:cptbonds]\n",
    "bond_types = bond_types[:cptbonds]"
   ]
  },
  {
   "cell_type": "markdown",
   "metadata": {},
   "source": [
    "### calculate angles"
   ]
  },
  {
   "cell_type": "code",
   "execution_count": 18,
   "metadata": {},
   "outputs": [],
   "source": [
    "angles = np.zeros((10000,3))\n",
    "angle_types = np.zeros(10000)\n",
    "cptangles = 0\n",
    "bonded_a = np.append(bonds.T[0],bonds.T[1])\n",
    "for a in atoms:\n",
    "    ida = np.int32(a[0])\n",
    "    tpa = np.int32(atoms[atoms.T[0] == ida].T[2])[0]\n",
    "    occurence = np.sum(bonded_a == ida)\n",
    "    if occurence > 1: # the atom has 2 or more neighbors\n",
    "        id_neighbors = np.unique(bonds[(bonds.T[0] == ida) | (bonds.T[1] == ida)].T[:2].T)\n",
    "        for idb in id_neighbors:\n",
    "            for idc in id_neighbors:\n",
    "                if (idb != ida) & (idc != ida) & (idb < idc): # avoid counting same angle twice\n",
    "                    angles[cptangles] = idb, ida, idc\n",
    "                    tpb = np.int32(atoms[atoms.T[0] == idb].T[2])[0]\n",
    "                    tpc = np.int32(atoms[atoms.T[0] == idc].T[2])[0]\n",
    "                    if (tpb == 3) & (tpa == 1) & (tpc == 3): # HCA2 CC32A HCA2\n",
    "                        angle_types[cptangles] = 5\n",
    "                    elif ((tpb == 3) & (tpa == 1) & (tpc == 4)) | ((tpb == 4) & (tpa == 1) & (tpc == 3)): # HCA2 CC32A OC311\n",
    "                        angle_types[cptangles] = 6\n",
    "                    elif ((tpb == 3) & (tpa == 1) & (tpc == 1)) | ((tpb == 1) & (tpa == 1) & (tpc == 3)): # HCA2 CC32A CC32A\n",
    "                        angle_types[cptangles] = 2\n",
    "                    elif ((tpb == 4) & (tpa == 1) & (tpc == 1)) | ((tpb == 1) & (tpa == 1) & (tpc == 4)): # OC311 CC32A CC32A\n",
    "                         angle_types[cptangles] = 7\n",
    "                    elif ((tpb == 1) & (tpa == 4) & (tpc == 5)) | ((tpb == 5) & (tpa == 4) & (tpc == 1)): # CC32A OC311 HCP1    \n",
    "                         angle_types[cptangles] = 1\n",
    "                    elif ((tpb == 1) & (tpa == 1) & (tpc == 2)) | ((tpb == 2) & (tpa == 1) & (tpc == 1)): # CC32A CC32A OC30A     \n",
    "                         angle_types[cptangles] = 3\n",
    "                    elif ((tpb == 3) & (tpa == 1) & (tpc == 2)) | ((tpb == 2) & (tpa == 1) & (tpc == 3)): # HCA2 CC32A OC30A    \n",
    "                         angle_types[cptangles] = 4\n",
    "                    elif (tpb == 1) & (tpa == 2) & (tpc == 1): # CC32A OC30A CC32A\n",
    "                         angle_types[cptangles] = 8\n",
    "                    else:   \n",
    "                        print(tpb, tpa, tpc)\n",
    "                        print(conversion_table[0][tpb-1], conversion_table[0][tpa-1], conversion_table[0][tpc-1])\n",
    "                        print(\"Unknown angle\")\n",
    "                    cptangles += 1       \n",
    "angles = angles[:cptangles]\n",
    "angle_types = angle_types[:cptangles]"
   ]
  },
  {
   "cell_type": "markdown",
   "metadata": {},
   "source": [
    "## calculate dihedrals"
   ]
  },
  {
   "cell_type": "code",
   "execution_count": 19,
   "metadata": {},
   "outputs": [],
   "source": [
    "dihedrals = np.zeros((10000,4))\n",
    "dihedral_types = np.zeros(10000)\n",
    "cptdihedrals = 0\n",
    "central_angled_a = angles.T[1]\n",
    "edge_angled_a = np.append(angles.T[0],angles.T[2])\n",
    "for a in atoms:\n",
    "    ida = np.int32(a[0])\n",
    "    tpa = np.int32(atoms[atoms.T[0] == ida].T[2])[0]\n",
    "    if (tpa == 1) | (tpa == 2) | (tpa == 4): # ignore hydrogen\n",
    "        id_first_neighbor = np.unique(angles[(angles.T[1] == ida)].T[:3].T)\n",
    "        id_first_neighbor = id_first_neighbor[id_first_neighbor != ida]\n",
    "        for idb in id_first_neighbor:\n",
    "            id_second_neighbor = np.unique(angles[(angles.T[1] == idb)].T[:3].T)\n",
    "            if len(id_second_neighbor)>0:\n",
    "                id_second_neighbor = id_second_neighbor[id_second_neighbor != idb]\n",
    "                id_second_neighbor = id_second_neighbor[id_second_neighbor != ida]\n",
    "                for idc in id_first_neighbor:\n",
    "                    if idc != idb:\n",
    "                        for ide in id_second_neighbor:\n",
    "                            tpc = np.int32(atoms[atoms.T[0] == idc].T[2])[0]\n",
    "                            tpb = np.int32(atoms[atoms.T[0] == idb].T[2])[0]\n",
    "                            tpe = np.int32(atoms[atoms.T[0] == ide].T[2])[0]\n",
    "                            if (ida < idb) & (tpc != 3) & (tpe != 3) : \n",
    "                                if ((tpc == 1) & (tpa == 1) & (tpb == 4) & (tpe == 5)) | \\\n",
    "                                   ((tpc == 5) & (tpa == 4) & (tpb == 1) & (tpe == 1)):\n",
    "                                    dihedral_types[cptdihedrals] = 6\n",
    "                                    dihedrals[cptdihedrals] = idc, ida, idb, ide\n",
    "                                    cptdihedrals += 1\n",
    "                                    dihedral_types[cptdihedrals] = 7\n",
    "                                    dihedrals[cptdihedrals] = idc, ida, idb, ide\n",
    "                                    cptdihedrals += 1\n",
    "                                    dihedral_types[cptdihedrals] = 8\n",
    "                                    dihedrals[cptdihedrals] = idc, ida, idb, ide\n",
    "                                    cptdihedrals += 1                                    \n",
    "                                elif ((tpc == 4) & (tpa == 1) & (tpb == 1) & (tpe == 2)) | \\\n",
    "                                     ((tpc == 2) & (tpa == 1) & (tpb == 1) & (tpe == 4)):\n",
    "                                    dihedral_types[cptdihedrals] = 12\n",
    "                                    dihedrals[cptdihedrals] = idc, ida, idb, ide\n",
    "                                    cptdihedrals += 1\n",
    "                                    dihedral_types[cptdihedrals] = 13\n",
    "                                    dihedrals[cptdihedrals] = idc, ida, idb, ide\n",
    "                                    cptdihedrals += 1\n",
    "                                    dihedral_types[cptdihedrals] = 14\n",
    "                                    dihedrals[cptdihedrals] = idc, ida, idb, ide\n",
    "                                    cptdihedrals += 1                                    \n",
    "                                elif ((tpc == 1) & (tpa == 1) & (tpb == 2) & (tpe == 1)) | \\\n",
    "                                     ((tpc == 1) & (tpa == 2) & (tpb == 1) & (tpe == 1)):\n",
    "                                    dihedral_types[cptdihedrals] = 1\n",
    "                                    dihedrals[cptdihedrals] = idc, ida, idb, ide\n",
    "                                    cptdihedrals += 1\n",
    "                                    dihedral_types[cptdihedrals] = 2\n",
    "                                    dihedrals[cptdihedrals] = idc, ida, idb, ide\n",
    "                                    cptdihedrals += 1\n",
    "                                    dihedral_types[cptdihedrals] = 3\n",
    "                                    dihedrals[cptdihedrals] = idc, ida, idb, ide\n",
    "                                    cptdihedrals += 1                                    \n",
    "                                elif (tpc == 2) & (tpa == 1) & (tpb == 1) & (tpe == 2) :\n",
    "                                    dihedral_types[cptdihedrals] = 4\n",
    "                                    dihedrals[cptdihedrals] = idc, ida, idb, ide\n",
    "                                    cptdihedrals += 1\n",
    "                                    dihedral_types[cptdihedrals] = 5\n",
    "                                    dihedrals[cptdihedrals] = idc, ida, idb, ide\n",
    "                                    cptdihedrals += 1\n",
    "                                else:                                     \n",
    "                                    print(tpc, tpa, tpb, tpe)\n",
    "                                    print(conversion_table[0][tpc-1], conversion_table[0][tpa-1], \n",
    "                                          conversion_table[0][tpb-1], conversion_table[0][tpe-1])\n",
    "                                    print(\"Unknown angle\")     \n",
    "dihedrals = dihedrals[:cptdihedrals]\n",
    "dihedral_types = dihedral_types[:cptdihedrals]\n"
   ]
  },
  {
   "cell_type": "code",
   "execution_count": 20,
   "metadata": {},
   "outputs": [],
   "source": [
    "# space for water\n",
    "bond_types += 1\n",
    "angle_types += 1\n",
    "atoms.T[2] += 2"
   ]
  },
  {
   "cell_type": "markdown",
   "metadata": {},
   "source": [
    "## write data.lammps file"
   ]
  },
  {
   "cell_type": "code",
   "execution_count": 21,
   "metadata": {},
   "outputs": [],
   "source": [
    "f = open(\"../init.data\", \"w\")\n",
    "f.write('# LAMMPS data file \\n\\n')\n",
    "f.write(str(len(atoms))+' atoms\\n')\n",
    "f.write(str(len(bonds))+' bonds\\n')\n",
    "f.write(str(len(angles))+' angles\\n')\n",
    "f.write(str(len(dihedrals))+' dihedrals\\n')\n",
    "f.write('\\n')\n",
    "f.write('7 atom types\\n')\n",
    "f.write('6 bond types\\n')\n",
    "f.write('9 angle types\\n')\n",
    "f.write('14 dihedral types\\n')\n",
    "f.write('\\n')\n",
    "f.write(str(-Lx/2)+' '+str(Lx/2)+' xlo xhi\\n')\n",
    "f.write(str(-Ly/2)+' '+str(Ly/2)+' ylo yhi\\n')\n",
    "f.write(str(-Lz/2)+' '+str(Lz/2)+' zlo zhi\\n')\n",
    "f.write('\\n')\n",
    "f.write('Atoms\\n')\n",
    "f.write('\\n')\n",
    "for myatom in atoms:\n",
    "    for col in range(len(myatom)):\n",
    "        if col < 3:\n",
    "            f.write(str(int(myatom[col]))+' ')\n",
    "        else :\n",
    "            f.write(str(myatom[col])+' ')\n",
    "    f.write('\\n')\n",
    "f.write('\\n')\n",
    "f.write('Bonds\\n')\n",
    "f.write('\\n')\n",
    "for cpt, mybond in enumerate(bonds):\n",
    "    myline = [cpt + 1, bond_types[cpt], mybond[0], mybond[1]]\n",
    "    for col in range(len(myline)):\n",
    "        f.write(str(int(myline[col]))+' ')\n",
    "    f.write('\\n')\n",
    "f.write('\\n')\n",
    "f.write('Angles\\n')\n",
    "f.write('\\n')   \n",
    "for cpt, myangle in enumerate(angles):\n",
    "    myline = [cpt + 1, angle_types[cpt], myangle[0], myangle[1], myangle[2]]\n",
    "    for col in range(len(myline)):\n",
    "        f.write(str(int(myline[col]))+' ')\n",
    "    f.write('\\n')\n",
    "f.write('\\n')\n",
    "f.write('Dihedrals\\n')\n",
    "f.write('\\n')   \n",
    "for cpt, mydihedral in enumerate(dihedrals):\n",
    "    myline = [cpt + 1, dihedral_types[cpt], mydihedral[0], mydihedral[1], mydihedral[2], mydihedral[3]]\n",
    "    for col in range(len(myline)):\n",
    "        f.write(str(int(myline[col]))+' ')\n",
    "    f.write('\\n')\n",
    "f.close()"
   ]
  }
 ],
 "metadata": {
  "kernelspec": {
   "display_name": "Python 3.8.10 64-bit",
   "language": "python",
   "name": "python3"
  },
  "language_info": {
   "codemirror_mode": {
    "name": "ipython",
    "version": 3
   },
   "file_extension": ".py",
   "mimetype": "text/x-python",
   "name": "python",
   "nbconvert_exporter": "python",
   "pygments_lexer": "ipython3",
   "version": "3.8.10"
  },
  "vscode": {
   "interpreter": {
    "hash": "916dbcbb3f70747c44a77c7bcd40155683ae19c65e1c03b4aa3499c5328201f1"
   }
  }
 },
 "nbformat": 4,
 "nbformat_minor": 4
}
