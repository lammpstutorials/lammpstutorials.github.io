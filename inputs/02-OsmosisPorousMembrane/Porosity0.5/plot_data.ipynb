{
 "cells": [
  {
   "cell_type": "code",
   "execution_count": null,
   "metadata": {},
   "outputs": [],
   "source": [
    "import copy\n",
    "import numpy as np\n",
    "from matplotlib import pyplot as plt\n",
    "from matplotlib.ticker import AutoMinorLocator\n",
    "from mpl_toolkits.axes_grid1 import make_axes_locatable"
   ]
  },
  {
   "cell_type": "code",
   "execution_count": null,
   "metadata": {},
   "outputs": [],
   "source": [
    "plt.rcParams.update({\n",
    "    \"text.usetex\": True,\n",
    "    \"font.family\": \"serif\",\n",
    "    \"font.serif\": [\"Palatino\"],\n",
    "})"
   ]
  },
  {
   "cell_type": "code",
   "execution_count": null,
   "metadata": {},
   "outputs": [],
   "source": [
    "fontsize = 25\n",
    "font = {'family': 'sans', 'color':  'black', 'weight': 'normal', 'size': fontsize}\n",
    "myblack = [0.1,0.1,0.1]\n",
    "myblue = [0, 0.2, 1]\n",
    "mygrayblue = [0.5, 0.5, 1]\n",
    "mygray = [0.5, 0.5, 0.5]\n",
    "myred = [1, 0, 0]\n",
    "myblue2 = [23/ 255, 63/ 255, 143/ 255]\n",
    "myshade = list(np.zeros(8))\n",
    "for i in range(8):\n",
    "    myshade[i] = [i/32, i/32, i/8]\n",
    "my_color_1 = np.array([23,63,143])/255\n",
    "my_color_2 = np.array([60,174,163])/255\n",
    "my_color_3 = np.array([255,130,85])/255\n",
    "my_color_4 = np.array([215,0,0])/255\n",
    "my_color_5 = np.array([150,150,150])/255"
   ]
  },
  {
   "cell_type": "code",
   "execution_count": null,
   "metadata": {},
   "outputs": [],
   "source": [
    "solvent_right = np.loadtxt('solvent_right.dat')\n",
    "position_piston_left = np.loadtxt('position_piston_left.dat')"
   ]
  },
  {
   "cell_type": "code",
   "execution_count": null,
   "metadata": {},
   "outputs": [],
   "source": [
    "fig = plt.figure(figsize=(12, 6))\n",
    "\n",
    "ax1 = fig.add_subplot(121)\n",
    "plt.plot(position_piston_left.T[0]/1000000, \n",
    "         position_piston_left.T[1], \n",
    "         linewidth = 2)\n",
    "divider = make_axes_locatable(ax1)\n",
    "ax1.set_xlabel(r'time', fontdict=font)\n",
    "ax1.set_ylabel(r'position piston', fontdict=font)\n",
    "plt.xticks(fontsize=fontsize)\n",
    "plt.yticks(fontsize=fontsize)\n",
    "#plt.ylim(5, 65)\n",
    "ax1.minorticks_on()\n",
    "ax1.tick_params('both', length=10, width=2, which='major', direction='in')\n",
    "ax1.tick_params('both', length=6, width=1.4, which='minor', direction='in')\n",
    "ax1.xaxis.set_ticks_position('both')\n",
    "ax1.yaxis.set_ticks_position('both')\n",
    "ax1.spines[\"top\"].set_linewidth(2)\n",
    "ax1.spines[\"bottom\"].set_linewidth(2)\n",
    "ax1.spines[\"left\"].set_linewidth(2)\n",
    "ax1.spines[\"right\"].set_linewidth(2)\n",
    "ax1.set_xticks([0, 0.5, 1, 1.5, 2.0])\n",
    "#ax1.set_yticks([7, 20, 33, 47, 60])\n",
    "#labels = ['$1.3$', '$1.4$', '$1.5$', '$1.6$', '$1.7$']\n",
    "#ax1.set_yticklabels(labels)\n",
    "minor_locator_y = AutoMinorLocator(2)\n",
    "ax1.yaxis.set_minor_locator(minor_locator_y)\n",
    "minor_locator_x = AutoMinorLocator(2)\n",
    "ax1.xaxis.set_minor_locator(minor_locator_x)\n",
    "\n",
    "\n",
    "\n",
    "ax2 = fig.add_subplot(122)\n",
    "plt.plot(solvent_right.T[0]/1000000, \n",
    "         solvent_right.T[1], \n",
    "         linewidth = 2)\n",
    "divider = make_axes_locatable(ax1)\n",
    "ax2.set_xlabel(r'time', fontdict=font)\n",
    "ax2.set_ylabel(r'solvent in the right reservoir', fontdict=font)\n",
    "plt.xticks(fontsize=fontsize)\n",
    "plt.yticks(fontsize=fontsize)\n",
    "#plt.ylim(0, 60)\n",
    "ax2.minorticks_on()\n",
    "ax2.tick_params('both', length=10, width=2, which='major', direction='in')\n",
    "ax2.tick_params('both', length=6, width=1.4, which='minor', direction='in')\n",
    "ax2.xaxis.set_ticks_position('both')\n",
    "ax2.yaxis.set_ticks_position('both')\n",
    "ax2.spines[\"top\"].set_linewidth(2)\n",
    "ax2.spines[\"bottom\"].set_linewidth(2)\n",
    "ax2.spines[\"left\"].set_linewidth(2)\n",
    "ax2.spines[\"right\"].set_linewidth(2)\n",
    "ax2.set_xticks([0, 0.5, 1, 1.5, 2.0])\n",
    "#ax2.set_yticks([0, 0.05, 0.1, 0.15])\n",
    "#labels = ['0', '$1.4$', '$2.8$', '$4.2$']\n",
    "#ax2.set_yticklabels(labels)\n",
    "minor_locator_y = AutoMinorLocator(2)\n",
    "ax2.yaxis.set_minor_locator(minor_locator_y)\n",
    "minor_locator_x = AutoMinorLocator(2)\n",
    "ax2.xaxis.set_minor_locator(minor_locator_x)\n",
    "\n",
    "#ax2.legend(frameon=False, fontsize=fontsize, loc='upper right', handletextpad=0.5,\n",
    "#          handlelength = 0.5, borderpad = 0.4, labelspacing=0.3) \n",
    "\n",
    "fig.tight_layout()\n",
    "plt.savefig('Flux.png', bbox_inches = 'tight', pad_inches = 0.057)  \n",
    "plt.show()"
   ]
  },
  {
   "cell_type": "code",
   "execution_count": null,
   "metadata": {},
   "outputs": [],
   "source": []
  },
  {
   "cell_type": "code",
   "execution_count": null,
   "metadata": {},
   "outputs": [],
   "source": []
  }
 ],
 "metadata": {
  "kernelspec": {
   "display_name": "Python 3.8.10 64-bit",
   "language": "python",
   "name": "python3"
  },
  "language_info": {
   "codemirror_mode": {
    "name": "ipython",
    "version": 3
   },
   "file_extension": ".py",
   "mimetype": "text/x-python",
   "name": "python",
   "nbconvert_exporter": "python",
   "pygments_lexer": "ipython3",
   "version": "3.8.10"
  },
  "vscode": {
   "interpreter": {
    "hash": "916dbcbb3f70747c44a77c7bcd40155683ae19c65e1c03b4aa3499c5328201f1"
   }
  }
 },
 "nbformat": 4,
 "nbformat_minor": 4
}
