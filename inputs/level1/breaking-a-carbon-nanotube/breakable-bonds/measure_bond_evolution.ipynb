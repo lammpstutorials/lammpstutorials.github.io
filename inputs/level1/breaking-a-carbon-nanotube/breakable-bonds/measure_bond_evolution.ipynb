{
 "cells": [
  {
   "cell_type": "code",
   "execution_count": 1,
   "metadata": {},
   "outputs": [
    {
     "name": "stderr",
     "output_type": "stream",
     "text": [
      "/home/simon/.local/lib/python3.11/site-packages/MDAnalysis/topology/TPRParser.py:161: DeprecationWarning: 'xdrlib' is deprecated and slated for removal in Python 3.13\n",
      "  import xdrlib\n"
     ]
    }
   ],
   "source": [
    "import MDAnalysis as mda\n",
    "import numpy as np"
   ]
  },
  {
   "cell_type": "code",
   "execution_count": 2,
   "metadata": {},
   "outputs": [
    {
     "ename": "ValueError",
     "evalue": "Failed to construct topology from file cnt_atom.data with parser <class 'MDAnalysis.topology.LAMMPSParser.DATAParser'>.\nError: Failed to parse atoms section.  You can supply a description of the atom_style as a keyword argument, eg mda.Universe(..., atom_style='id resid x y z')",
     "output_type": "error",
     "traceback": [
      "\u001b[0;31m---------------------------------------------------------------------------\u001b[0m",
      "\u001b[0;31mValueError\u001b[0m                                Traceback (most recent call last)",
      "File \u001b[0;32m~/.local/lib/python3.11/site-packages/MDAnalysis/core/universe.py:110\u001b[0m, in \u001b[0;36m_topology_from_file_like\u001b[0;34m(topology_file, topology_format, **kwargs)\u001b[0m\n\u001b[1;32m    109\u001b[0m     \u001b[39mwith\u001b[39;00m parser(topology_file) \u001b[39mas\u001b[39;00m p:\n\u001b[0;32m--> 110\u001b[0m         topology \u001b[39m=\u001b[39m p\u001b[39m.\u001b[39;49mparse(\u001b[39m*\u001b[39;49m\u001b[39m*\u001b[39;49mkwargs)\n\u001b[1;32m    111\u001b[0m \u001b[39mexcept\u001b[39;00m (\u001b[39mIOError\u001b[39;00m, \u001b[39mOSError\u001b[39;00m) \u001b[39mas\u001b[39;00m err:\n\u001b[1;32m    112\u001b[0m     \u001b[39m# There are 2 kinds of errors that might be raised here:\u001b[39;00m\n\u001b[1;32m    113\u001b[0m     \u001b[39m# one because the file isn't present\u001b[39;00m\n\u001b[1;32m    114\u001b[0m     \u001b[39m# or the permissions are bad, second when the parser fails\u001b[39;00m\n",
      "File \u001b[0;32m~/.local/lib/python3.11/site-packages/MDAnalysis/topology/LAMMPSParser.py:288\u001b[0m, in \u001b[0;36mDATAParser.parse\u001b[0;34m(self, **kwargs)\u001b[0m\n\u001b[1;32m    284\u001b[0m     errmsg \u001b[39m=\u001b[39m (\n\u001b[1;32m    285\u001b[0m         \u001b[39m\"\u001b[39m\u001b[39mFailed to parse atoms section.  You can supply a description \u001b[39m\u001b[39m\"\u001b[39m\n\u001b[1;32m    286\u001b[0m         \u001b[39m\"\u001b[39m\u001b[39mof the atom_style as a keyword argument, \u001b[39m\u001b[39m\"\u001b[39m\n\u001b[1;32m    287\u001b[0m         \u001b[39m\"\u001b[39m\u001b[39meg mda.Universe(..., atom_style=\u001b[39m\u001b[39m'\u001b[39m\u001b[39mid resid x y z\u001b[39m\u001b[39m'\u001b[39m\u001b[39m)\u001b[39m\u001b[39m\"\u001b[39m)\n\u001b[0;32m--> 288\u001b[0m     \u001b[39mraise\u001b[39;00m \u001b[39mValueError\u001b[39;00m(errmsg) \u001b[39mfrom\u001b[39;00m \u001b[39mNone\u001b[39m\n\u001b[1;32m    290\u001b[0m \u001b[39m# create mapping of id to index (ie atom id 10 might be the 0th atom)\u001b[39;00m\n",
      "\u001b[0;31mValueError\u001b[0m: Failed to parse atoms section.  You can supply a description of the atom_style as a keyword argument, eg mda.Universe(..., atom_style='id resid x y z')",
      "\nDuring handling of the above exception, another exception occurred:\n",
      "\u001b[0;31mValueError\u001b[0m                                Traceback (most recent call last)",
      "\u001b[1;32m/home/simon/Git/LAMMPS/lammpstutorials.github.io/docs/inputs/level1/breaking-a-carbon-nanotube/breakable-bonds/measure_bond_evolution.ipynb Cell 2\u001b[0m line \u001b[0;36m3\n\u001b[1;32m      <a href='vscode-notebook-cell:/home/simon/Git/LAMMPS/lammpstutorials.github.io/docs/inputs/level1/breaking-a-carbon-nanotube/breakable-bonds/measure_bond_evolution.ipynb#W1sZmlsZQ%3D%3D?line=0'>1</a>\u001b[0m \u001b[39m# create a universe from the dump file\u001b[39;00m\n\u001b[1;32m      <a href='vscode-notebook-cell:/home/simon/Git/LAMMPS/lammpstutorials.github.io/docs/inputs/level1/breaking-a-carbon-nanotube/breakable-bonds/measure_bond_evolution.ipynb#W1sZmlsZQ%3D%3D?line=1'>2</a>\u001b[0m \u001b[39m# guess bond based on distance from the initial topology\u001b[39;00m\n\u001b[0;32m----> <a href='vscode-notebook-cell:/home/simon/Git/LAMMPS/lammpstutorials.github.io/docs/inputs/level1/breaking-a-carbon-nanotube/breakable-bonds/measure_bond_evolution.ipynb#W1sZmlsZQ%3D%3D?line=2'>3</a>\u001b[0m u \u001b[39m=\u001b[39m mda\u001b[39m.\u001b[39;49mUniverse(\u001b[39m\"\u001b[39;49m\u001b[39mcnt_atom.data\u001b[39;49m\u001b[39m\"\u001b[39;49m, \u001b[39m\"\u001b[39;49m\u001b[39mdump.lammpstrj\u001b[39;49m\u001b[39m\"\u001b[39;49m,\n\u001b[1;32m      <a href='vscode-notebook-cell:/home/simon/Git/LAMMPS/lammpstutorials.github.io/docs/inputs/level1/breaking-a-carbon-nanotube/breakable-bonds/measure_bond_evolution.ipynb#W1sZmlsZQ%3D%3D?line=3'>4</a>\u001b[0m                  topology_format\u001b[39m=\u001b[39;49m\u001b[39m\"\u001b[39;49m\u001b[39mdata\u001b[39;49m\u001b[39m\"\u001b[39;49m, \u001b[39mformat\u001b[39;49m\u001b[39m=\u001b[39;49m\u001b[39m\"\u001b[39;49m\u001b[39mlammpsdump\u001b[39;49m\u001b[39m\"\u001b[39;49m,\n\u001b[1;32m      <a href='vscode-notebook-cell:/home/simon/Git/LAMMPS/lammpstutorials.github.io/docs/inputs/level1/breaking-a-carbon-nanotube/breakable-bonds/measure_bond_evolution.ipynb#W1sZmlsZQ%3D%3D?line=4'>5</a>\u001b[0m                  guess_bonds\u001b[39m=\u001b[39;49m\u001b[39mTrue\u001b[39;49;00m, vdwradii\u001b[39m=\u001b[39;49m{\u001b[39m'\u001b[39;49m\u001b[39m1\u001b[39;49m\u001b[39m'\u001b[39;49m:\u001b[39m1.7\u001b[39;49m})\n\u001b[1;32m      <a href='vscode-notebook-cell:/home/simon/Git/LAMMPS/lammpstutorials.github.io/docs/inputs/level1/breaking-a-carbon-nanotube/breakable-bonds/measure_bond_evolution.ipynb#W1sZmlsZQ%3D%3D?line=5'>6</a>\u001b[0m \u001b[39m# create a group with all the atoms\u001b[39;00m\n\u001b[1;32m      <a href='vscode-notebook-cell:/home/simon/Git/LAMMPS/lammpstutorials.github.io/docs/inputs/level1/breaking-a-carbon-nanotube/breakable-bonds/measure_bond_evolution.ipynb#W1sZmlsZQ%3D%3D?line=6'>7</a>\u001b[0m cnt \u001b[39m=\u001b[39m u\u001b[39m.\u001b[39mselect_atoms(\u001b[39m\"\u001b[39m\u001b[39mtype 1\u001b[39m\u001b[39m\"\u001b[39m)\n",
      "File \u001b[0;32m~/.local/lib/python3.11/site-packages/MDAnalysis/core/universe.py:356\u001b[0m, in \u001b[0;36mUniverse.__init__\u001b[0;34m(self, topology, all_coordinates, format, topology_format, transformations, guess_bonds, vdwradii, fudge_factor, lower_bound, in_memory, in_memory_step, *coordinates, **kwargs)\u001b[0m\n\u001b[1;32m    354\u001b[0m \u001b[39mif\u001b[39;00m \u001b[39mnot\u001b[39;00m \u001b[39misinstance\u001b[39m(topology, Topology) \u001b[39mand\u001b[39;00m \u001b[39mnot\u001b[39;00m topology \u001b[39mis\u001b[39;00m \u001b[39mNone\u001b[39;00m:\n\u001b[1;32m    355\u001b[0m     \u001b[39mself\u001b[39m\u001b[39m.\u001b[39mfilename \u001b[39m=\u001b[39m _check_file_like(topology)\n\u001b[0;32m--> 356\u001b[0m     topology \u001b[39m=\u001b[39m _topology_from_file_like(\u001b[39mself\u001b[39;49m\u001b[39m.\u001b[39;49mfilename,\n\u001b[1;32m    357\u001b[0m                                         topology_format\u001b[39m=\u001b[39;49mtopology_format,\n\u001b[1;32m    358\u001b[0m                                         \u001b[39m*\u001b[39;49m\u001b[39m*\u001b[39;49mkwargs)\n\u001b[1;32m    360\u001b[0m \u001b[39mif\u001b[39;00m topology \u001b[39mis\u001b[39;00m \u001b[39mnot\u001b[39;00m \u001b[39mNone\u001b[39;00m:\n\u001b[1;32m    361\u001b[0m     \u001b[39mself\u001b[39m\u001b[39m.\u001b[39m_topology \u001b[39m=\u001b[39m topology\n",
      "File \u001b[0;32m~/.local/lib/python3.11/site-packages/MDAnalysis/core/universe.py:125\u001b[0m, in \u001b[0;36m_topology_from_file_like\u001b[0;34m(topology_file, topology_format, **kwargs)\u001b[0m\n\u001b[1;32m    121\u001b[0m         \u001b[39mraise\u001b[39;00m \u001b[39mIOError\u001b[39;00m(\u001b[39m\"\u001b[39m\u001b[39mFailed to load from the topology file \u001b[39m\u001b[39m{0}\u001b[39;00m\u001b[39m\"\u001b[39m\n\u001b[1;32m    122\u001b[0m                         \u001b[39m\"\u001b[39m\u001b[39m with parser \u001b[39m\u001b[39m{1}\u001b[39;00m\u001b[39m.\u001b[39m\u001b[39m\\n\u001b[39;00m\u001b[39m\"\u001b[39m\n\u001b[1;32m    123\u001b[0m                         \u001b[39m\"\u001b[39m\u001b[39mError: \u001b[39m\u001b[39m{2}\u001b[39;00m\u001b[39m\"\u001b[39m\u001b[39m.\u001b[39mformat(topology_file, parser, err))\n\u001b[1;32m    124\u001b[0m \u001b[39mexcept\u001b[39;00m (\u001b[39mValueError\u001b[39;00m, \u001b[39mNotImplementedError\u001b[39;00m) \u001b[39mas\u001b[39;00m err:\n\u001b[0;32m--> 125\u001b[0m     \u001b[39mraise\u001b[39;00m \u001b[39mValueError\u001b[39;00m(\n\u001b[1;32m    126\u001b[0m         \u001b[39m\"\u001b[39m\u001b[39mFailed to construct topology from file \u001b[39m\u001b[39m{0}\u001b[39;00m\u001b[39m\"\u001b[39m\n\u001b[1;32m    127\u001b[0m         \u001b[39m\"\u001b[39m\u001b[39m with parser \u001b[39m\u001b[39m{1}\u001b[39;00m\u001b[39m.\u001b[39m\u001b[39m\\n\u001b[39;00m\u001b[39m\"\u001b[39m\n\u001b[1;32m    128\u001b[0m         \u001b[39m\"\u001b[39m\u001b[39mError: \u001b[39m\u001b[39m{2}\u001b[39;00m\u001b[39m\"\u001b[39m\u001b[39m.\u001b[39mformat(topology_file, parser, err))\n\u001b[1;32m    129\u001b[0m \u001b[39mreturn\u001b[39;00m topology\n",
      "\u001b[0;31mValueError\u001b[0m: Failed to construct topology from file cnt_atom.data with parser <class 'MDAnalysis.topology.LAMMPSParser.DATAParser'>.\nError: Failed to parse atoms section.  You can supply a description of the atom_style as a keyword argument, eg mda.Universe(..., atom_style='id resid x y z')"
     ]
    }
   ],
   "source": [
    "# create a universe from the dump file\n",
    "# guess bond based on distance from the initial topology\n",
    "u = mda.Universe(\"cnt_atom.data\", \"dump.lammpstrj\",\n",
    "                 topology_format=\"data\", format=\"lammpsdump\",\n",
    "                 guess_bonds=True, vdwradii={'1':1.7})\n",
    "# create a group with all the atoms\n",
    "cnt = u.select_atoms(\"type 1\")"
   ]
  },
  {
   "cell_type": "code",
   "execution_count": null,
   "metadata": {},
   "outputs": [],
   "source": [
    "nbond_vs_time = []\n",
    "lbond_vs_time = []\n",
    "# loop over trajectory\n",
    "for ts in u.trajectory:\n",
    "    # sabe the bond of the timestep ts in a list\n",
    "    all_bonds_ts = []\n",
    "    # loop over all initially detected bond\n",
    "    for id1, id2 in cnt.atoms.bonds.indices:\n",
    "        # detect positions\n",
    "        pos1 = u.atoms.positions[u.atoms.indices == id1]\n",
    "        pos2 = u.atoms.positions[u.atoms.indices == id2]\n",
    "        # measure bond length\n",
    "        d = pos1-pos2\n",
    "        r = np.sqrt(d[:, 0]**2 + d[:, 1]**2 + d[:, 2]**2)\n",
    "        if r < 1.8: # assume that bond longer than 1.8 angstroms are broken\n",
    "            all_bonds_ts.append(r)\n",
    "    lbond_vs_time.append([ts.time, np.mean(all_bonds_ts)]) \n",
    "    nbond_vs_time.append([ts.time, len(all_bonds_ts)/2]) # divide by 2 to avoid counting twice\n",
    "nbond_vs_time = np.array(nbond_vs_time)\n",
    "lbond_vs_time = np.array(lbond_vs_time)"
   ]
  },
  {
   "cell_type": "code",
   "execution_count": null,
   "metadata": {},
   "outputs": [],
   "source": [
    "np.savetxt(\"output_number_bond_vs_time.dat\", nbond_vs_time)\n",
    "np.savetxt(\"output_length_bond_vs_time.dat\", lbond_vs_time)"
   ]
  }
 ],
 "metadata": {
  "kernelspec": {
   "display_name": "Python 3.8.10 64-bit",
   "language": "python",
   "name": "python3"
  },
  "language_info": {
   "codemirror_mode": {
    "name": "ipython",
    "version": 3
   },
   "file_extension": ".py",
   "mimetype": "text/x-python",
   "name": "python",
   "nbconvert_exporter": "python",
   "pygments_lexer": "ipython3",
   "version": "3.11.4"
  },
  "vscode": {
   "interpreter": {
    "hash": "916dbcbb3f70747c44a77c7bcd40155683ae19c65e1c03b4aa3499c5328201f1"
   }
  }
 },
 "nbformat": 4,
 "nbformat_minor": 4
}
