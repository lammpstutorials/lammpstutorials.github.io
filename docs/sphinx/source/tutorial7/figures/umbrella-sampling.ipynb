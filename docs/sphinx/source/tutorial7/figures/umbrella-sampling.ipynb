{
 "cells": [
  {
   "cell_type": "code",
   "execution_count": 1,
   "id": "7c8c9669",
   "metadata": {},
   "outputs": [],
   "source": [
    "import numpy as np\n",
    "import sys, os, git, lammps_logfile\n",
    "import warnings\n",
    "warnings.filterwarnings(\"ignore\")"
   ]
  },
  {
   "cell_type": "code",
   "execution_count": 2,
   "id": "2eee228a",
   "metadata": {},
   "outputs": [],
   "source": [
    "def read_output_wham(filename = \"umbrella-sampling.dat\"):\n",
    "    coor_data = []\n",
    "    with open(filename, 'r') as file:\n",
    "        section = None\n",
    "        for line in file:\n",
    "            if \"#Coor\" in line:\n",
    "                section = \"coor\"\n",
    "            elif \"#Window\" in line:\n",
    "                section = \"window\"\n",
    "            if (section == \"coor\") & (\"#\" not in line):\n",
    "                parts = line.split(\"\\t\")\n",
    "                coor_data.append([np.float32(parts[0]), np.float32(parts[1])])\n",
    "    return np.array(coor_data)"
   ]
  },
  {
   "cell_type": "code",
   "execution_count": 3,
   "id": "4d449723",
   "metadata": {},
   "outputs": [],
   "source": [
    "def create_metadata(k, filename = \"umbrella-sampling.meta\"):\n",
    "    f = open(filename, \"w\")\n",
    "    for a in np.arange(1,16):\n",
    "        f.write(\"umbrella-sampling.\"+str(a)+\".dat \" + str(4*a-32)+\" \"+str(k)+\"\\n\")\n",
    "    f.close()"
   ]
  },
  {
   "cell_type": "code",
   "execution_count": 4,
   "id": "a28c02aa",
   "metadata": {},
   "outputs": [],
   "source": [
    "current_path = os.getcwd()\n",
    "git_repo = git.Repo(current_path, search_parent_directories=True)\n",
    "git_path = git_repo.git.rev_parse(\"--show-toplevel\")\n",
    "path_in_folder = current_path[len(git_path)+1:]\n",
    "sys.path.append(git_path + \"/.dependencies/pyplot-perso\")\n",
    "from plttools import PltTools\n",
    "path_figures = current_path # git_path + \"/figures/\"\n",
    "path_data = git_path + \"/.dependencies/lammpstutorials-inputs/\"+path_in_folder.split('/')[-2]+\"/\""
   ]
  },
  {
   "cell_type": "code",
   "execution_count": 5,
   "id": "9359f820",
   "metadata": {},
   "outputs": [],
   "source": [
    "color0_light = np.array([0.5, 0.5, 0.5])\n",
    "color1_light = np.array([1, 0.682, 0.286])\n",
    "color2_light = np.array([0.008, 0.294, 0.478])\n",
    "color3_light = np.array([0.267, 0.647, 0.761])\n",
    "\n",
    "color0_dark = np.array([0.5, 0.5, 0.5])\n",
    "color1_dark = np.array([1, 0.8, 0.5])\n",
    "color2_dark = np.array([0.24, 0.58, 1.0])\n",
    "color3_dark = np.array([0.4, 0.75, 0.85])\n",
    "\n",
    "colors_light = {\n",
    "    \"color0\": color0_light,\n",
    "    \"color1\": color1_light,\n",
    "    \"color2\": color2_light,\n",
    "    \"color3\": color3_light,\n",
    "}\n",
    "\n",
    "colors_dark = {\n",
    "    \"color0\": color0_dark,\n",
    "    \"color1\": color1_dark,\n",
    "    \"color2\": color2_dark,\n",
    "    \"color3\": color3_dark,\n",
    "}"
   ]
  },
  {
   "cell_type": "markdown",
   "id": "8c49d7cd",
   "metadata": {},
   "source": [
    "## Control overlap"
   ]
  },
  {
   "cell_type": "code",
   "execution_count": 6,
   "id": "942f7817",
   "metadata": {},
   "outputs": [
    {
     "data": {
      "image/png": "[encoded data removed]",
      "text/plain": [
       "<Figure size 1200x800 with 1 Axes>"
      ]
     },
     "metadata": {},
     "output_type": "display_data"
    }
   ],
   "source": [
    "# Initialise figure\n",
    "myplt = PltTools()\n",
    "myplt.prepare_figure(fig_size = (12,8), dark_mode = False,\n",
    "                     transparency = False, use_serif=False, n_colone=1, n_line=2)\n",
    "# Panel a\n",
    "myplt.add_panel()\n",
    "for n in np.arange(1,26):\n",
    "    file = \"umbrella-sampling.\"+str(n)+\".dat\"\n",
    "    if os.path.exists(file):\n",
    "        data = np.loadtxt(file)\n",
    "        x0 = data[:,2][0]\n",
    "        x = data[:,1]\n",
    "        a, b = np.histogram(x, bins=50)\n",
    "        centers = (b[1:]+b[:-1])/2\n",
    "        a = a / np.sum(a)\n",
    "        if (n % 2 == 0):\n",
    "            myplt.add_plot(x = centers, y = a, type = \"plot\", linewidth_data = 3,\n",
    "                    marker = \"-\", data_color = color1, markersize = 12)\n",
    "        else:\n",
    "            myplt.add_plot(x = centers, y = a, type = \"plot\", linewidth_data = 3,\n",
    "                    marker = \"-\", data_color = color2, markersize = 12)"
   ]
  },
  {
   "cell_type": "markdown",
   "id": "7c9463ce",
   "metadata": {},
   "source": [
    "## Compare output with imposed potential"
   ]
  },
  {
   "cell_type": "code",
   "execution_count": 7,
   "id": "2bfcead0",
   "metadata": {},
   "outputs": [],
   "source": [
    "sigma = 3.405 # Angstrom\n",
    "epsilon = 0.238 # Kcal/mol\n",
    "U0 = 10*epsilon # Kcal/mol\n",
    "\n",
    "delta = 1.0 # Angstrom\n",
    "x0 = 10.0 # Angstrom\n",
    "\n",
    "x = np.linspace(-50, 50, 10000)  # Angstrom\n",
    "U = U0*np.arctan((x+x0)/delta)-U0*np.arctan((x-x0)/delta)\n",
    "F = U0/(((x-x0)**2)/delta**2+1)/delta-U0/(((x+x0)**2)/delta**2+1)/delta"
   ]
  },
  {
   "cell_type": "code",
   "execution_count": 8,
   "id": "d4d18581",
   "metadata": {},
   "outputs": [
    {
     "ename": "FileNotFoundError",
     "evalue": "[Errno 2] No such file or directory: 'umbrella-sampling.dat'",
     "output_type": "error",
     "traceback": [
      "\u001b[0;31m---------------------------------------------------------------------------\u001b[0m",
      "\u001b[0;31mFileNotFoundError\u001b[0m                         Traceback (most recent call last)",
      "Cell \u001b[0;32mIn[8], line 14\u001b[0m\n\u001b[1;32m     12\u001b[0m \u001b[38;5;66;03m# Panel a\u001b[39;00m\n\u001b[1;32m     13\u001b[0m myplt\u001b[38;5;241m.\u001b[39madd_panel()\n\u001b[0;32m---> 14\u001b[0m output_wham \u001b[38;5;241m=\u001b[39m \u001b[43mread_output_wham\u001b[49m\u001b[43m(\u001b[49m\u001b[43m)\u001b[49m\n\u001b[1;32m     15\u001b[0m myplt\u001b[38;5;241m.\u001b[39madd_plot(x \u001b[38;5;241m=\u001b[39m output_wham[:,\u001b[38;5;241m0\u001b[39m], y \u001b[38;5;241m=\u001b[39m output_wham[:,\u001b[38;5;241m1\u001b[39m], \u001b[38;5;28mtype\u001b[39m \u001b[38;5;241m=\u001b[39m \u001b[38;5;124m\"\u001b[39m\u001b[38;5;124mplot\u001b[39m\u001b[38;5;124m\"\u001b[39m, linewidth_data \u001b[38;5;241m=\u001b[39m \u001b[38;5;241m3\u001b[39m,\n\u001b[1;32m     16\u001b[0m             marker \u001b[38;5;241m=\u001b[39m \u001b[38;5;124m\"\u001b[39m\u001b[38;5;124mo\u001b[39m\u001b[38;5;124m\"\u001b[39m, data_color \u001b[38;5;241m=\u001b[39m color3, markersize \u001b[38;5;241m=\u001b[39m \u001b[38;5;241m12\u001b[39m)\n\u001b[1;32m     17\u001b[0m myplt\u001b[38;5;241m.\u001b[39madd_plot(x \u001b[38;5;241m=\u001b[39m x, y \u001b[38;5;241m=\u001b[39m U, \u001b[38;5;28mtype\u001b[39m \u001b[38;5;241m=\u001b[39m \u001b[38;5;124m\"\u001b[39m\u001b[38;5;124mplot\u001b[39m\u001b[38;5;124m\"\u001b[39m, linewidth_data \u001b[38;5;241m=\u001b[39m \u001b[38;5;241m3\u001b[39m,\n\u001b[1;32m     18\u001b[0m     marker \u001b[38;5;241m=\u001b[39m \u001b[38;5;124m\"\u001b[39m\u001b[38;5;124m-\u001b[39m\u001b[38;5;124m\"\u001b[39m, data_color \u001b[38;5;241m=\u001b[39m np\u001b[38;5;241m.\u001b[39marray([\u001b[38;5;241m0.2\u001b[39m, \u001b[38;5;241m0.2\u001b[39m, \u001b[38;5;241m0.2\u001b[39m]), markersize \u001b[38;5;241m=\u001b[39m \u001b[38;5;241m12\u001b[39m)\n",
      "Cell \u001b[0;32mIn[2], line 3\u001b[0m, in \u001b[0;36mread_output_wham\u001b[0;34m(filename)\u001b[0m\n\u001b[1;32m      1\u001b[0m \u001b[38;5;28;01mdef\u001b[39;00m \u001b[38;5;21mread_output_wham\u001b[39m(filename \u001b[38;5;241m=\u001b[39m \u001b[38;5;124m\"\u001b[39m\u001b[38;5;124mumbrella-sampling.dat\u001b[39m\u001b[38;5;124m\"\u001b[39m):\n\u001b[1;32m      2\u001b[0m     coor_data \u001b[38;5;241m=\u001b[39m []\n\u001b[0;32m----> 3\u001b[0m     \u001b[38;5;28;01mwith\u001b[39;00m \u001b[38;5;28;43mopen\u001b[39;49m\u001b[43m(\u001b[49m\u001b[43mfilename\u001b[49m\u001b[43m,\u001b[49m\u001b[43m \u001b[49m\u001b[38;5;124;43m'\u001b[39;49m\u001b[38;5;124;43mr\u001b[39;49m\u001b[38;5;124;43m'\u001b[39;49m\u001b[43m)\u001b[49m \u001b[38;5;28;01mas\u001b[39;00m file:\n\u001b[1;32m      4\u001b[0m         section \u001b[38;5;241m=\u001b[39m \u001b[38;5;28;01mNone\u001b[39;00m\n\u001b[1;32m      5\u001b[0m         \u001b[38;5;28;01mfor\u001b[39;00m line \u001b[38;5;129;01min\u001b[39;00m file:\n",
      "File \u001b[0;32m~/.local/lib/python3.12/site-packages/IPython/core/interactiveshell.py:324\u001b[0m, in \u001b[0;36m_modified_open\u001b[0;34m(file, *args, **kwargs)\u001b[0m\n\u001b[1;32m    317\u001b[0m \u001b[38;5;28;01mif\u001b[39;00m file \u001b[38;5;129;01min\u001b[39;00m {\u001b[38;5;241m0\u001b[39m, \u001b[38;5;241m1\u001b[39m, \u001b[38;5;241m2\u001b[39m}:\n\u001b[1;32m    318\u001b[0m     \u001b[38;5;28;01mraise\u001b[39;00m \u001b[38;5;167;01mValueError\u001b[39;00m(\n\u001b[1;32m    319\u001b[0m         \u001b[38;5;124mf\u001b[39m\u001b[38;5;124m\"\u001b[39m\u001b[38;5;124mIPython won\u001b[39m\u001b[38;5;124m'\u001b[39m\u001b[38;5;124mt let you open fd=\u001b[39m\u001b[38;5;132;01m{\u001b[39;00mfile\u001b[38;5;132;01m}\u001b[39;00m\u001b[38;5;124m by default \u001b[39m\u001b[38;5;124m\"\u001b[39m\n\u001b[1;32m    320\u001b[0m         \u001b[38;5;124m\"\u001b[39m\u001b[38;5;124mas it is likely to crash IPython. If you know what you are doing, \u001b[39m\u001b[38;5;124m\"\u001b[39m\n\u001b[1;32m    321\u001b[0m         \u001b[38;5;124m\"\u001b[39m\u001b[38;5;124myou can use builtins\u001b[39m\u001b[38;5;124m'\u001b[39m\u001b[38;5;124m open.\u001b[39m\u001b[38;5;124m\"\u001b[39m\n\u001b[1;32m    322\u001b[0m     )\n\u001b[0;32m--> 324\u001b[0m \u001b[38;5;28;01mreturn\u001b[39;00m \u001b[43mio_open\u001b[49m\u001b[43m(\u001b[49m\u001b[43mfile\u001b[49m\u001b[43m,\u001b[49m\u001b[43m \u001b[49m\u001b[38;5;241;43m*\u001b[39;49m\u001b[43margs\u001b[49m\u001b[43m,\u001b[49m\u001b[43m \u001b[49m\u001b[38;5;241;43m*\u001b[39;49m\u001b[38;5;241;43m*\u001b[39;49m\u001b[43mkwargs\u001b[49m\u001b[43m)\u001b[49m\n",
      "\u001b[0;31mFileNotFoundError\u001b[0m: [Errno 2] No such file or directory: 'umbrella-sampling.dat'"
     ]
    },
    {
     "data": {
      "image/png": "[encoded data removed]",
      "text/plain": [
       "<Figure size 1800x700 with 1 Axes>"
      ]
     },
     "metadata": {},
     "output_type": "display_data"
    }
   ],
   "source": [
    "filename = \"US-free-energy\"\n",
    "\n",
    "for dark_mode in [True, False]:\n",
    "\n",
    "    colors = colors_dark if dark_mode else colors_light\n",
    "    globals().update(colors)\n",
    "\n",
    "    # Initialise figure\n",
    "    myplt = PltTools()\n",
    "    myplt.prepare_figure(fig_size = (18,7), dark_mode = dark_mode,\n",
    "                        transparency = True, use_serif=True, n_colone=1, n_line=2)\n",
    "    # Panel a\n",
    "    myplt.add_panel()\n",
    "    output_wham = read_output_wham()\n",
    "    myplt.add_plot(x = output_wham[:,0], y = output_wham[:,1], type = \"plot\", linewidth_data = 3,\n",
    "                marker = \"o\", data_color = color3, markersize = 12)\n",
    "    myplt.add_plot(x = x, y = U, type = \"plot\", linewidth_data = 3,\n",
    "        marker = \"-\", data_color = np.array([0.2, 0.2, 0.2]), markersize = 12)\n",
    "\n",
    "    myplt.complete_panel(xlabel = r'$x ~ (\\mathrm{\\AA})$',\n",
    "                        ylabel = r'$U~(\\mathrm{kcal/mol})$', xpad = 10, legend=True, handlelength_legend=1)\n",
    "    myplt.set_boundaries(x_ticks=np.arange(-50, 51, 20), #y_ticks=np.arange(-0., 1.3, 0.3),\n",
    "                        x_boundaries=(-55, 55), y_boundaries=(-1, 10))\n",
    "\n",
    "    # Print figure\n",
    "    # myplt.add_subplotlabels()\n",
    "    myplt.save_figure(filename = filename, saving_path = path_figures)"
   ]
  }
 ],
 "metadata": {
  "kernelspec": {
   "display_name": "Python 3",
   "language": "python",
   "name": "python3"
  },
  "language_info": {
   "codemirror_mode": {
    "name": "ipython",
    "version": 3
   },
   "file_extension": ".py",
   "mimetype": "text/x-python",
   "name": "python",
   "nbconvert_exporter": "python",
   "pygments_lexer": "ipython3",
   "version": "3.12.3"
  }
 },
 "nbformat": 4,
 "nbformat_minor": 5
}
