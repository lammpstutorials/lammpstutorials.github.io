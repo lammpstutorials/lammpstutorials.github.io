{
 "cells": [
  {
   "cell_type": "code",
   "execution_count": null,
   "metadata": {},
   "outputs": [],
   "source": [
    "import copy\n",
    "import numpy as np\n",
    "from matplotlib import pyplot as plt\n",
    "from matplotlib.ticker import AutoMinorLocator\n",
    "from mpl_toolkits.axes_grid1 import make_axes_locatable"
   ]
  },
  {
   "cell_type": "code",
   "execution_count": null,
   "metadata": {},
   "outputs": [],
   "source": [
    "plt.rcParams.update({\n",
    "    \"text.usetex\": True,\n",
    "    \"font.family\": \"serif\",\n",
    "    \"font.serif\": [\"Palatino\"],\n",
    "})"
   ]
  },
  {
   "cell_type": "code",
   "execution_count": null,
   "metadata": {},
   "outputs": [],
   "source": [
    "fontsize = 20\n",
    "font = {'family': 'sans', 'color':  'black', 'weight': 'normal', 'size': fontsize}\n",
    "myblue = [0/ 255, 150/255, 177/ 255]\n",
    "lightgray = [0.1, 0.1, 0.1]\n",
    "darkgray = [0.9, 0.9, 0.9]"
   ]
  },
  {
   "cell_type": "code",
   "execution_count": null,
   "metadata": {},
   "outputs": [],
   "source": [
    "import MDAnalysis as mda\n",
    "import numpy as np"
   ]
  },
  {
   "cell_type": "code",
   "execution_count": null,
   "metadata": {},
   "outputs": [],
   "source": [
    "# create a universe from the dump file\n",
    "# guess bond based on distance from the initial topology\n",
    "u = mda.Universe(\"cnt.data\", \"dump.lammpstrj\",\n",
    "                 topology_format=\"data\", format=\"lammpsdump\",\n",
    "                 guess_bonds=True, vdwradii={'1':1.7})\n",
    "# create a group\n",
    "cnt = u.select_atoms(\"type 1\")"
   ]
  },
  {
   "cell_type": "code",
   "execution_count": null,
   "metadata": {},
   "outputs": [],
   "source": [
    "nbond_vs_time = []\n",
    "lbond_vs_time = []\n",
    "# loop over trajectory\n",
    "for ts in u.trajectory:\n",
    "    # sabe the bond of the timestep ts in a list\n",
    "    all_bonds_ts = []\n",
    "    # loop over all initially detected bond\n",
    "    for id1, id2 in cnt.atoms.bonds.indices:\n",
    "        # detect positions\n",
    "        pos1 = u.atoms.positions[u.atoms.indices == id1]\n",
    "        pos2 = u.atoms.positions[u.atoms.indices == id2]\n",
    "        d = pos1-pos2\n",
    "        r = np.sqrt(d[:, 0]**2 + d[:, 1]**2 + d[:, 2]**2)\n",
    "        if r < 1.8: # assume that bond longer than 1.8 angstroms are broken\n",
    "            all_bonds_ts.append(r)\n",
    "    lbond_vs_time.append([ts.time*5000*0.0005, np.mean(all_bonds_ts)]) \n",
    "    nbond_vs_time.append([ts.time*5000*0.0005, len(all_bonds_ts)/2]) # divide by 2 to avoid counting twice\n",
    "nbond_vs_time = np.array(nbond_vs_time)\n",
    "lbond_vs_time = np.array(lbond_vs_time)"
   ]
  },
  {
   "cell_type": "code",
   "execution_count": null,
   "metadata": {},
   "outputs": [],
   "source": [
    "for mode, mygray in zip(['light', 'dark'], [lightgray, darkgray]):\n",
    "\n",
    "    fig = plt.figure(figsize=(20, 4))\n",
    "    ax1 = fig.add_subplot(131)\n",
    "    plt.plot(lbond_vs_time.T[0], lbond_vs_time.T[1], linewidth = 2, color=myblue)\n",
    "    divider = make_axes_locatable(ax1)\n",
    "    ax1.set_xlabel('Time (ps)', fontdict=font)\n",
    "    ax1.set_ylabel('Bond length (Angstrom)', fontdict=font)\n",
    "    plt.xticks(fontsize=fontsize)\n",
    "    plt.yticks(fontsize=fontsize)\n",
    "    #plt.ylim(5, 65)\n",
    "    ax1.minorticks_on()\n",
    "    ax1.tick_params('both', length=10, width=2, which='major', direction='in')\n",
    "    ax1.tick_params('both', length=6, width=1.4, which='minor', direction='in')\n",
    "    ax1.xaxis.set_ticks_position('both')\n",
    "    ax1.yaxis.set_ticks_position('both')\n",
    "    ax1.spines[\"top\"].set_linewidth(2)\n",
    "    ax1.spines[\"bottom\"].set_linewidth(2)\n",
    "    ax1.spines[\"left\"].set_linewidth(2)\n",
    "    ax1.spines[\"right\"].set_linewidth(2)\n",
    "    ax1.set_xticks([0, 30, 60, 90, 120, 150])\n",
    "    ax1.set_yticks([1.4, 1.5, 1.6])\n",
    "    minor_locator_y = AutoMinorLocator(2)\n",
    "    ax1.yaxis.set_minor_locator(minor_locator_y)\n",
    "    minor_locator_x = AutoMinorLocator(2)\n",
    "    ax1.xaxis.set_minor_locator(minor_locator_x)\n",
    "    ax1.xaxis.label.set_color(mygray)\n",
    "    ax1.yaxis.label.set_color(mygray)\n",
    "    ax1.tick_params(axis='x', colors=mygray)\n",
    "    ax1.tick_params(axis='y', colors=mygray)\n",
    "    ax1.spines['left'].set_color(mygray)\n",
    "    ax1.spines['top'].set_color(mygray)\n",
    "    ax1.spines['bottom'].set_color(mygray)\n",
    "    ax1.spines['right'].set_color(mygray)\n",
    "    ax1.tick_params(axis='y', which='both', colors=mygray)\n",
    "    ax1.tick_params(axis='x', which='both', colors=mygray)\n",
    "\n",
    "    ax2 = fig.add_subplot(132)\n",
    "    plt.plot(nbond_vs_time.T[0], nbond_vs_time.T[1], linewidth = 2, color=myblue)\n",
    "    divider = make_axes_locatable(ax1)\n",
    "    ax2.set_xlabel('Time (ps)', fontdict=font)\n",
    "    ax2.set_ylabel('Number of bonds', fontdict=font)\n",
    "    plt.xticks(fontsize=fontsize)\n",
    "    plt.yticks(fontsize=fontsize)\n",
    "    ax2.minorticks_on()\n",
    "    ax2.tick_params('both', length=10, width=2, which='major', direction='in')\n",
    "    ax2.tick_params('both', length=6, width=1.4, which='minor', direction='in')\n",
    "    ax2.xaxis.set_ticks_position('both')\n",
    "    ax2.yaxis.set_ticks_position('both')\n",
    "    ax2.spines[\"top\"].set_linewidth(2)\n",
    "    ax2.spines[\"bottom\"].set_linewidth(2)\n",
    "    ax2.spines[\"left\"].set_linewidth(2)\n",
    "    ax2.spines[\"right\"].set_linewidth(2)\n",
    "    ax1.set_xticks([0, 30, 60, 90, 120, 150])\n",
    "    ax2.set_yticks([460, 480, 500, 520])\n",
    "    minor_locator_y = AutoMinorLocator(2)\n",
    "    ax2.yaxis.set_minor_locator(minor_locator_y)\n",
    "    minor_locator_x = AutoMinorLocator(2)\n",
    "    ax2.xaxis.set_minor_locator(minor_locator_x)\n",
    "    ax2.xaxis.label.set_color(mygray)\n",
    "    ax2.yaxis.label.set_color(mygray)\n",
    "    ax2.tick_params(axis='x', colors=mygray)\n",
    "    ax2.tick_params(axis='y', colors=mygray)\n",
    "    ax2.tick_params(axis='x', colors=mygray)\n",
    "    ax2.tick_params(axis='y', colors=mygray)\n",
    "    ax2.spines['left'].set_color(mygray)\n",
    "    ax2.spines['top'].set_color(mygray)\n",
    "    ax2.spines['bottom'].set_color(mygray)\n",
    "    ax2.spines['right'].set_color(mygray)\n",
    "    ax2.tick_params(axis='y', which='both', colors=mygray)\n",
    "    ax2.tick_params(axis='x', which='both', colors=mygray)\n",
    "\n",
    "    fig.tight_layout()\n",
    "    if mode == 'light':\n",
    "        plt.savefig('bond-light.png', bbox_inches = 'tight', pad_inches = 0.057, transparent=True)\n",
    "        plt.savefig('../../../../docs/sphinx/source/tutorials/figures/carbonnanotube/bond-light.png', bbox_inches = 'tight', pad_inches = 0.057, transparent=True)\n",
    "    else:\n",
    "        plt.savefig('bond-dark.png', bbox_inches = 'tight', pad_inches = 0.057, transparent=True)\n",
    "        plt.savefig('../../../../docs/sphinx/source/tutorials/figures/carbonnanotube/bond-dark.png', bbox_inches = 'tight', pad_inches = 0.057, transparent=True)        \n",
    "    plt.show()"
   ]
  }
 ],
 "metadata": {
  "kernelspec": {
   "display_name": "Python 3.8.10 64-bit",
   "language": "python",
   "name": "python3"
  },
  "language_info": {
   "codemirror_mode": {
    "name": "ipython",
    "version": 3
   },
   "file_extension": ".py",
   "mimetype": "text/x-python",
   "name": "python",
   "nbconvert_exporter": "python",
   "pygments_lexer": "ipython3",
   "version": "3.10.7"
  },
  "vscode": {
   "interpreter": {
    "hash": "916dbcbb3f70747c44a77c7bcd40155683ae19c65e1c03b4aa3499c5328201f1"
   }
  }
 },
 "nbformat": 4,
 "nbformat_minor": 4
}
