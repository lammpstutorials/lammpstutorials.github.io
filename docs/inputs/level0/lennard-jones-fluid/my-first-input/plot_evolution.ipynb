{
 "cells": [
  {
   "cell_type": "code",
   "execution_count": null,
   "id": "9e485e34",
   "metadata": {},
   "outputs": [],
   "source": [
    "import numpy as np\n",
    "import sys, os, git, lammps_logfile\n",
    "from matplotlib import pyplot as plt"
   ]
  },
  {
   "cell_type": "code",
   "execution_count": null,
   "id": "64adad12",
   "metadata": {},
   "outputs": [],
   "source": [
    "current_path = os.getcwd()\n",
    "git_repo = git.Repo(current_path, search_parent_directories=True)\n",
    "git_path = git_repo.git.rev_parse(\"--show-toplevel\")\n",
    "sys.path.append(git_path+\"/docs/inputs/shared-pyplot-files/\")\n",
    "from pyplot_parameters import colors, complete_panel, save_figure, set_boundaries, \\\n",
    "                              add_subplotlabels # set_boundaries\n",
    "path_in_folder = current_path[len(git_path)+1:]\n",
    "level = path_in_folder.split(\"/\")[2][-1]\n",
    "tutorial_name = path_in_folder.split(\"/\")[3]\n",
    "path_figures = \"/docs/sphinx/source/tutorials/figures/level\" + level + \"/\" + tutorial_name + \"/\"\n",
    "print(\"level:\" , level, \"& tutorial name:\", tutorial_name)\n",
    "print(\"figures will be saved in\", path_figures)"
   ]
  },
  {
   "cell_type": "code",
   "execution_count": null,
   "metadata": {},
   "outputs": [],
   "source": [
    "log = lammps_logfile.File(\"log.lammps\")\n",
    "if os.path.exists(\"log.lammps\"):\n",
    "    timestep = 0.005\n",
    "    Time_EM = log.get(\"Step\", run_num = 0)*timestep\n",
    "    PotEng_EM = log.get(\"PotEng\", run_num = 0)\n",
    "    KinEng_EM = log.get(\"KinEng\", run_num = 0)\n",
    "    Time_MD = log.get(\"Step\", run_num = 1)*timestep\n",
    "    PotEng_MD = log.get(\"PotEng\", run_num = 1)\n",
    "    KinEng_MD = log.get(\"KinEng\", run_num = 1)\n",
    "    if os.path.exists(\"data_plot/\") is False:\n",
    "        os.mkdir(\"data_plot/\")\n",
    "    np.savetxt(\"data_plot/EM.dat\", np.vstack([Time_EM, PotEng_EM, KinEng_EM]).T)\n",
    "    np.savetxt(\"data_plot/MD.dat\", np.vstack([Time_MD, PotEng_MD, KinEng_MD]).T)\n",
    "else:\n",
    "    Time_EM, PotEng_EM, KinEng_EM = np.loadtxt(\"data_plot/EM.dat\")\n",
    "    Time_MD, PotEng_MD, KinEng_MD = np.loadtxt(\"data_plot/MD.dat\")"
   ]
  },
  {
   "cell_type": "code",
   "execution_count": null,
   "id": "868fe5d2",
   "metadata": {},
   "outputs": [],
   "source": [
    "filename = \"energy\"\n",
    "for mode, mygray in zip(['light', 'dark'], [colors[\"lightgray\"], colors[\"darkgray\"]]):    \n",
    "    fig = plt.figure(figsize=(18,10))\n",
    "    ax, n, l_tot, c_tot = [], 0, 2, 1\n",
    "    n += 1\n",
    "    ax.append(plt.subplot(l_tot, c_tot, n))\n",
    "    ax[-1].plot(Time_EM, PotEng_EM, color=colors[\"myorange\"], linewidth=3)\n",
    "    ax[-1].plot(Time_MD, PotEng_MD, color=colors[\"myblue\"], linewidth=3)\n",
    "    complete_panel(ax[-1], None, r'$p_\\textrm{e}$', legend=False, axis_color=mygray)\n",
    "    set_boundaries(plt, x_ticks=np.arange(0, 25, 5), x_boundaries=(0, 20),\n",
    "                   y_ticks=np.arange(-1, 1.5, 0.5), y_boundaries=(-1, 1))\n",
    "    n += 1\n",
    "    ax.append(plt.subplot(l_tot, c_tot, n))\n",
    "    ax[-1].plot(Time_EM, KinEng_EM, color=colors[\"myorange\"], linewidth=3, label=r\"Energy Minimization\")\n",
    "    ax[-1].plot(Time_MD, KinEng_MD, color=colors[\"myblue\"], linewidth=3, label=r\"Molecular Dynamics\")\n",
    "    complete_panel(ax[-1], r'$t$', r'$k_\\textrm{e}$', legend=True, axis_color=mygray)\n",
    "    set_boundaries(plt, x_ticks=np.arange(0, 25, 5), x_boundaries=(0, 20),\n",
    "                   y_ticks=np.arange(-0.5, 2.5, 0.5), y_boundaries=(-0.5, 2))\n",
    "    add_subplotlabels(fig, ax, [\"a\", \"b\"])\n",
    "    save_figure(fig, mode, git_path, path_figures, filename)"
   ]
  },
  {
   "cell_type": "code",
   "execution_count": null,
   "id": "5821aa7f",
   "metadata": {},
   "outputs": [],
   "source": []
  }
 ],
 "metadata": {
  "kernelspec": {
   "display_name": "Python 3.10.6 64-bit",
   "language": "python",
   "name": "python3"
  },
  "language_info": {
   "codemirror_mode": {
    "name": "ipython",
    "version": 3
   },
   "file_extension": ".py",
   "mimetype": "text/x-python",
   "name": "python",
   "nbconvert_exporter": "python",
   "pygments_lexer": "ipython3",
   "version": "3.11.4"
  },
  "vscode": {
   "interpreter": {
    "hash": "916dbcbb3f70747c44a77c7bcd40155683ae19c65e1c03b4aa3499c5328201f1"
   }
  }
 },
 "nbformat": 4,
 "nbformat_minor": 5
}
