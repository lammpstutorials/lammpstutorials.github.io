{
 "cells": [
  {
   "cell_type": "code",
   "execution_count": null,
   "id": "9e485e34",
   "metadata": {},
   "outputs": [],
   "source": [
    "import copy\n",
    "import numpy as np\n",
    "from matplotlib import pyplot as plt\n",
    "from matplotlib.ticker import AutoMinorLocator\n",
    "from mpl_toolkits.axes_grid1 import make_axes_locatable"
   ]
  },
  {
   "cell_type": "code",
   "execution_count": null,
   "id": "8b5ff92b",
   "metadata": {},
   "outputs": [],
   "source": [
    "def read_group(all_charge, n):\n",
    "    group_charges = []\n",
    "    for i_frame in all_charge:\n",
    "        types = np.int32(np.array(i_frame).T[1])\n",
    "        charges = np.float32(np.array(i_frame)[types==n].T[2])\n",
    "        group_charges.append(charges)\n",
    "    return group_charges"
   ]
  },
  {
   "cell_type": "code",
   "execution_count": null,
   "id": "d8398361",
   "metadata": {},
   "outputs": [],
   "source": [
    "def read_charges(file):\n",
    "    dump_file = open(file, \"r\")\n",
    "    number_of_frame = 0\n",
    "    all_data = []\n",
    "    for dump_line in dump_file:\n",
    "        if len(dump_line.split())>1:\n",
    "            if dump_line.split()[1]=='TIMESTEP': # new frame\n",
    "                counter_of_line = 0\n",
    "                number_of_frame += 1\n",
    "                frame = []\n",
    "                if number_of_frame>1:\n",
    "                    all_data.append(frame)\n",
    "        counter_of_line += 1\n",
    "        if counter_of_line > 9:\n",
    "            id, type, q, _, _, _ = dump_line.split()\n",
    "            frame.append([np.int32(id), np.int32(type), np.float32(q)])\n",
    "    all_data.append(frame)\n",
    "    return all_data"
   ]
  },
  {
   "cell_type": "code",
   "execution_count": null,
   "id": "64adad12",
   "metadata": {},
   "outputs": [],
   "source": [
    "plt.rcParams.update({\n",
    "    \"text.usetex\": True,\n",
    "    \"font.family\": \"serif\",\n",
    "    \"font.serif\": [\"Palatino\"],\n",
    "})"
   ]
  },
  {
   "cell_type": "code",
   "execution_count": null,
   "id": "53db3e32",
   "metadata": {},
   "outputs": [],
   "source": [
    "fontsize = 15\n",
    "font = {'family': 'sans', 'color':  'black', 'weight': 'normal', 'size': fontsize}\n",
    "myblue = [0/ 255, 150/255, 177/ 255]\n",
    "lightgray = [0.1, 0.1, 0.1]\n",
    "darkgray = [0.9, 0.9, 0.9]"
   ]
  },
  {
   "cell_type": "code",
   "execution_count": null,
   "id": "4891af6d",
   "metadata": {},
   "outputs": [],
   "source": [
    "n_bins = 200\n",
    "all_charge = read_charges(file=\"dump.lammpstrj\")\n",
    "qSi = read_group(all_charge, 1)\n",
    "qO = read_group(all_charge, 2)\n",
    "\n",
    "all_charge_undeformed = read_charges(file=\"../RelaxSilica/dump.lammpstrj\")\n",
    "qSi_undeformed = read_group(all_charge_undeformed, 1)\n",
    "qO_undeformed = read_group(all_charge_undeformed, 2)"
   ]
  },
  {
   "cell_type": "code",
   "execution_count": null,
   "id": "311a63bd",
   "metadata": {},
   "outputs": [],
   "source": [
    "for mode, mygray in zip(['light', 'dark'], [lightgray, darkgray]):\n",
    "\n",
    "    fig = plt.figure(figsize=(24, 4))\n",
    "    ax1 = fig.add_subplot(131)\n",
    "\n",
    "    # new charges\n",
    "    occurence, charge = np.histogram(qSi, bins=n_bins)\n",
    "    charge = charge[:-1]\n",
    "    plt.plot(charge, occurence/np.sum(occurence), 'o', color=myblue, label=\"Si\")\n",
    "    occurence, charge = np.histogram(qO, bins=n_bins)\n",
    "    charge = charge[:-1]\n",
    "    plt.plot(charge, occurence/np.sum(occurence), 'o', label=\"O\")\n",
    "\n",
    "    # previous charges\n",
    "    occurence, charge = np.histogram(qSi_undeformed, bins=n_bins)\n",
    "    charge = charge[:-1]\n",
    "    plt.plot(charge, occurence/np.sum(occurence), 'o', markersize=3, linewidth=2,  mfc='white', markeredgewidth=0.5, color=mygray)\n",
    "    occurence, charge = np.histogram(qO_undeformed, bins=n_bins)\n",
    "    charge = charge[:-1]\n",
    "    plt.plot(charge, occurence/np.sum(occurence), 'o', markersize=3, linewidth=2,  mfc='white', markeredgewidth=0.5, color=mygray)\n",
    "\n",
    "    #plt.plot(step/2, qSi, linewidth = 2, color=myblue)\n",
    "    divider = make_axes_locatable(ax1)\n",
    "    ax1.set_xlabel(r\"Charge $q$ (e)\", fontdict=font)\n",
    "    ax1.set_ylabel(r\"$P(q)$\", fontdict=font)\n",
    "\n",
    "    plt.xticks(fontsize=fontsize)\n",
    "    plt.yticks(fontsize=fontsize)\n",
    "    #plt.ylim(5, 65)\n",
    "    ax1.minorticks_on()\n",
    "    ax1.tick_params('both', length=10, width=2, which='major', direction='in')\n",
    "    ax1.tick_params('both', length=6, width=1.4, which='minor', direction='in')\n",
    "    ax1.xaxis.set_ticks_position('both')\n",
    "    ax1.yaxis.set_ticks_position('both')\n",
    "    ax1.spines[\"top\"].set_linewidth(2)\n",
    "    ax1.spines[\"bottom\"].set_linewidth(2)\n",
    "    ax1.spines[\"left\"].set_linewidth(2)\n",
    "    ax1.spines[\"right\"].set_linewidth(2)\n",
    "    ax1.set_xticks([-1.5, -1, -0.5, 0, 0.5, 1, 1.5, 2, 2.5])\n",
    "    ax1.set_yticks([0, 0.01, 0.02, 0.03])\n",
    "    minor_locator_y = AutoMinorLocator(2)\n",
    "    ax1.yaxis.set_minor_locator(minor_locator_y)\n",
    "    minor_locator_x = AutoMinorLocator(2)\n",
    "    ax1.xaxis.set_minor_locator(minor_locator_x)\n",
    "    ax1.xaxis.label.set_color(mygray)\n",
    "    ax1.yaxis.label.set_color(mygray)\n",
    "    ax1.tick_params(axis='x', colors=mygray)\n",
    "    ax1.tick_params(axis='y', colors=mygray)\n",
    "    ax1.spines['left'].set_color(mygray)\n",
    "    ax1.spines['top'].set_color(mygray)\n",
    "    ax1.spines['bottom'].set_color(mygray)\n",
    "    ax1.spines['right'].set_color(mygray)\n",
    "    ax1.tick_params(axis='y', which='both', colors=mygray)\n",
    "    ax1.tick_params(axis='x', which='both', colors=mygray)\n",
    "\n",
    "    fig.tight_layout()\n",
    "    if mode == 'light':\n",
    "        plt.savefig('../../../../../docs/sphinx/source/tutorials/figures/reactive-silicon-dioxide/deformed-distribution-charge-light.png', bbox_inches = 'tight', pad_inches = 0.057, transparent=True)\n",
    "    else:\n",
    "        plt.savefig('../../../../../docs/sphinx/source/tutorials/figures/reactive-silicon-dioxide/deformed-distribution-charge-dark.png', bbox_inches = 'tight', pad_inches = 0.057, transparent=True)        \n",
    "    plt.show()"
   ]
  }
 ],
 "metadata": {
  "kernelspec": {
   "display_name": "Python 3.10.6 64-bit",
   "language": "python",
   "name": "python3"
  },
  "language_info": {
   "codemirror_mode": {
    "name": "ipython",
    "version": 3
   },
   "file_extension": ".py",
   "mimetype": "text/x-python",
   "name": "python",
   "nbconvert_exporter": "python",
   "pygments_lexer": "ipython3",
   "version": "3.10.7"
  },
  "vscode": {
   "interpreter": {
    "hash": "916dbcbb3f70747c44a77c7bcd40155683ae19c65e1c03b4aa3499c5328201f1"
   }
  }
 },
 "nbformat": 4,
 "nbformat_minor": 5
}
