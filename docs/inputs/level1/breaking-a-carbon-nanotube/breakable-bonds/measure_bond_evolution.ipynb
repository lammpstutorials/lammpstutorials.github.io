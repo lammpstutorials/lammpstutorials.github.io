{
 "cells": [
  {
   "cell_type": "code",
   "execution_count": 5,
   "metadata": {},
   "outputs": [],
   "source": [
    "import MDAnalysis as mda\n",
    "import numpy as np"
   ]
  },
  {
   "cell_type": "code",
   "execution_count": 6,
   "metadata": {},
   "outputs": [],
   "source": [
    "# create a universe from the dump file\n",
    "# guess bond based on distance from the initial topology\n",
    "u = mda.Universe(\"cnt_atom.data\", \"dump.lammpstrj\",\n",
    "                 topology_format=\"data\", format=\"lammpsdump\",\n",
    "                 guess_bonds=True, vdwradii={'1':1.7})\n",
    "# create a group\n",
    "cnt = u.select_atoms(\"type 1\")"
   ]
  },
  {
   "cell_type": "code",
   "execution_count": 7,
   "metadata": {},
   "outputs": [],
   "source": [
    "nbond_vs_time = []\n",
    "lbond_vs_time = []\n",
    "# loop over trajectory\n",
    "for ts in u.trajectory:\n",
    "    # sabe the bond of the timestep ts in a list\n",
    "    all_bonds_ts = []\n",
    "    # loop over all initially detected bond\n",
    "    for id1, id2 in cnt.atoms.bonds.indices:\n",
    "        # detect positions\n",
    "        pos1 = u.atoms.positions[u.atoms.indices == id1]\n",
    "        pos2 = u.atoms.positions[u.atoms.indices == id2]\n",
    "        d = pos1-pos2\n",
    "        r = np.sqrt(d[:, 0]**2 + d[:, 1]**2 + d[:, 2]**2)\n",
    "        if r < 1.8: # assume that bond longer than 1.8 angstroms are broken\n",
    "            all_bonds_ts.append(r)\n",
    "    lbond_vs_time.append([ts.time*5000*0.0005, np.mean(all_bonds_ts)]) \n",
    "    nbond_vs_time.append([ts.time*5000*0.0005, len(all_bonds_ts)/2]) # divide by 2 to avoid counting twice\n",
    "nbond_vs_time = np.array(nbond_vs_time)\n",
    "lbond_vs_time = np.array(lbond_vs_time)"
   ]
  },
  {
   "cell_type": "code",
   "execution_count": 8,
   "metadata": {},
   "outputs": [],
   "source": [
    "np.savetxt(\"number_bond_vs_time.dat\", nbond_vs_time)\n",
    "np.savetxt(\"length_bond_vs_time.dat\", lbond_vs_time)"
   ]
  }
 ],
 "metadata": {
  "kernelspec": {
   "display_name": "Python 3.8.10 64-bit",
   "language": "python",
   "name": "python3"
  },
  "language_info": {
   "codemirror_mode": {
    "name": "ipython",
    "version": 3
   },
   "file_extension": ".py",
   "mimetype": "text/x-python",
   "name": "python",
   "nbconvert_exporter": "python",
   "pygments_lexer": "ipython3",
   "version": "3.11.4"
  },
  "vscode": {
   "interpreter": {
    "hash": "916dbcbb3f70747c44a77c7bcd40155683ae19c65e1c03b4aa3499c5328201f1"
   }
  }
 },
 "nbformat": 4,
 "nbformat_minor": 4
}
