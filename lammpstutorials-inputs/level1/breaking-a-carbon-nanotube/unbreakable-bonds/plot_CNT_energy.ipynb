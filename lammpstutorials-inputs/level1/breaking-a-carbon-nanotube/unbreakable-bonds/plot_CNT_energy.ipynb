{
 "cells": [
  {
   "cell_type": "code",
   "execution_count": null,
   "id": "9e485e34",
   "metadata": {},
   "outputs": [],
   "source": [
    "import numpy as np\n",
    "import sys, os, git, lammps_logfile\n",
    "from matplotlib import pyplot as plt"
   ]
  },
  {
   "cell_type": "code",
   "execution_count": null,
   "id": "a262ddfb",
   "metadata": {},
   "outputs": [],
   "source": [
    "current_path = os.getcwd()\n",
    "git_repo = git.Repo(current_path, search_parent_directories=True)\n",
    "git_path = git_repo.git.rev_parse(\"--show-toplevel\")\n",
    "sys.path.append(git_path+\"/docs/inputs/shared-pyplot-files/\")\n",
    "from pyplot_parameters import colors, complete_panel, save_figure, set_boundaries\n",
    "path_in_folder = current_path[len(git_path)+1:]\n",
    "level = path_in_folder.split(\"/\")[2][-1]\n",
    "tutorial_name = path_in_folder.split(\"/\")[3]\n",
    "path_figures = \"/docs/sphinx/source/tutorials/figures/level\" + level + \"/\" + tutorial_name + \"/\"\n",
    "print(\"level:\" , level, \"& tutorial name:\", tutorial_name)\n",
    "print(\"figures will be saved in\", path_figures)"
   ]
  },
  {
   "cell_type": "code",
   "execution_count": null,
   "id": "f3edac88",
   "metadata": {},
   "outputs": [],
   "source": [
    "log = lammps_logfile.File(\"log.lammps\")\n",
    "time_0 = log.get(\"Step\", run_num=0)\n",
    "energy_0 = log.get(\"TotEng\", run_num=0) # Kcal/mol\n",
    "time_1 = log.get(\"Step\", run_num=1)\n",
    "energy_1 = log.get(\"TotEng\", run_num=1) # Kcal/mol\n",
    "time_0 /= 1000 # ps\n",
    "time_1 /= 1000 # ps"
   ]
  },
  {
   "cell_type": "code",
   "execution_count": null,
   "id": "42e4386d",
   "metadata": {},
   "outputs": [],
   "source": [
    "filename = \"energy-unbreakable\"\n",
    "for mode, mygray in zip(['light', 'dark'], [colors[\"lightgray\"], colors[\"darkgray\"]]):    \n",
    "    fig = plt.figure(figsize=(18,6))\n",
    "    ax, n, l_tot, c_tot = [], 0, 1, 1\n",
    "    n += 1\n",
    "    ax.append(plt.subplot(l_tot, c_tot, n))\n",
    "    ax[-1].plot(time_0, energy_0, '--', color=mygray, linewidth=3.5)\n",
    "    ax[-1].plot(time_1, energy_1, color=colors[\"myblue\"], linewidth=3.5)\n",
    "    complete_panel(ax[-1], r'$t$ (ps)', r'$E_\\textrm{tot}$ (Kcal/mol)', legend=False, axis_color=mygray, locator_y=4)\n",
    "    set_boundaries(plt, x_ticks=np.arange(0, 18, 2), y_ticks=np.arange(0, 25000, 5000),\n",
    "                   x_boundaries=(-0.8, 16.2), y_boundaries=(0, 20000))\n",
    "    save_figure(fig, mode, git_path, path_figures, filename)"
   ]
  }
 ],
 "metadata": {
  "kernelspec": {
   "display_name": "Python 3.10.6 64-bit",
   "language": "python",
   "name": "python3"
  },
  "language_info": {
   "codemirror_mode": {
    "name": "ipython",
    "version": 3
   },
   "file_extension": ".py",
   "mimetype": "text/x-python",
   "name": "python",
   "nbconvert_exporter": "python",
   "pygments_lexer": "ipython3",
   "version": "3.11.4"
  },
  "vscode": {
   "interpreter": {
    "hash": "916dbcbb3f70747c44a77c7bcd40155683ae19c65e1c03b4aa3499c5328201f1"
   }
  }
 },
 "nbformat": 4,
 "nbformat_minor": 5
}
