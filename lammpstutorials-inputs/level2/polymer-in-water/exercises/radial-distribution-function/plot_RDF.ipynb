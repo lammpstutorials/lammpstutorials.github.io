{
 "cells": [
  {
   "cell_type": "code",
   "execution_count": null,
   "metadata": {},
   "outputs": [],
   "source": [
    "import numpy as np\n",
    "import sys, os, git\n",
    "from matplotlib import pyplot as plt"
   ]
  },
  {
   "cell_type": "code",
   "execution_count": null,
   "metadata": {},
   "outputs": [],
   "source": [
    "current_path = os.getcwd()\n",
    "git_repo = git.Repo(current_path, search_parent_directories=True)\n",
    "git_path = git_repo.git.rev_parse(\"--show-toplevel\")\n",
    "sys.path.append(git_path+\"/docs/inputs/shared-pyplot-files/\")\n",
    "from pyplot_parameters import colors, complete_panel, save_figure, set_boundaries\n",
    "path_in_folder = current_path[len(git_path)+1:]\n",
    "level = path_in_folder.split(\"/\")[2][-1]\n",
    "tutorial_name = path_in_folder.split(\"/\")[3]\n",
    "path_figures = \"/docs/sphinx/source/tutorials/figures/level\" + level + \"/\" + tutorial_name + \"/\"\n",
    "print(\"level:\" , level, \"& tutorial name:\", tutorial_name)\n",
    "print(\"figures will be saved in\", path_figures)"
   ]
  },
  {
   "cell_type": "code",
   "execution_count": null,
   "metadata": {},
   "outputs": [],
   "source": [
    "_, r, RDF_H2O_PEG_O_init, _, RDF_H2O_PEG_C_init, _, = np.loadtxt(\"PEG-H2O-initial.dat\", skiprows=4).T\n",
    "_, r, RDF_H2O_PEG_O_final, _, RDF_H2O_PEG_C_final, _, = np.loadtxt(\"PEG-H2O-final.dat\", skiprows=4).T"
   ]
  },
  {
   "cell_type": "code",
   "execution_count": null,
   "metadata": {},
   "outputs": [],
   "source": [
    "filename = \"RDF\"\n",
    "for mode, mygray in zip(['light', 'dark'], [colors[\"lightgray\"], colors[\"darkgray\"]]):    \n",
    "    fig = plt.figure(figsize=(18,6))\n",
    "    ax, n, l_tot, c_tot = [], 0, 1, 1\n",
    "    n += 1\n",
    "    ax.append(plt.subplot(l_tot, c_tot, n))\n",
    "    ax[-1].plot(r, RDF_H2O_PEG_O_init, color=colors[\"myblue\"], linewidth=3.5, label=r'H2O-PEG(O) - unstretched')\n",
    "    ax[-1].plot(r, RDF_H2O_PEG_O_final, color=colors[\"myorange\"], linewidth=3.5, label=r'H2O-PEG(O) - stretched')\n",
    "    complete_panel(ax[-1], r'$r$ ($\\textrm{\\AA}$)', r'RDF', legend=True, axis_color=mygray)\n",
    "    #set_boundaries(plt, x_ticks=np.arange(0, 70, 10), y_ticks=np.arange(10, 45, 5),\n",
    "    #               x_boundaries=(-2, 62), y_boundaries=(10, 40))\n",
    "    save_figure(fig, mode, git_path, path_figures, filename)"
   ]
  }
 ],
 "metadata": {
  "kernelspec": {
   "display_name": "Python 3 (ipykernel)",
   "language": "python",
   "name": "python3"
  },
  "language_info": {
   "codemirror_mode": {
    "name": "ipython",
    "version": 3
   },
   "file_extension": ".py",
   "mimetype": "text/x-python",
   "name": "python",
   "nbconvert_exporter": "python",
   "pygments_lexer": "ipython3",
   "version": "3.11.4"
  },
  "vscode": {
   "interpreter": {
    "hash": "916dbcbb3f70747c44a77c7bcd40155683ae19c65e1c03b4aa3499c5328201f1"
   }
  }
 },
 "nbformat": 4,
 "nbformat_minor": 4
}
