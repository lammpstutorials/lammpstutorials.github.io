{
 "cells": [
  {
   "cell_type": "code",
   "execution_count": 1,
   "metadata": {},
   "outputs": [
    {
     "name": "stderr",
     "output_type": "stream",
     "text": [
      "/home/simon/.local/lib/python3.11/site-packages/MDAnalysis/topology/TPRParser.py:161: DeprecationWarning: 'xdrlib' is deprecated and slated for removal in Python 3.13\n",
      "  import xdrlib\n"
     ]
    }
   ],
   "source": [
    "import MDAnalysis as mda\n",
    "import numpy as np"
   ]
  },
  {
   "cell_type": "code",
   "execution_count": 2,
   "metadata": {},
   "outputs": [
    {
     "name": "stderr",
     "output_type": "stream",
     "text": [
      "/home/simon/.local/lib/python3.11/site-packages/MDAnalysis/coordinates/LAMMPS.py:598: UserWarning: Reader has no dt information, set to 1.0 ps\n",
      "  ts.data['time'] = step_num * ts.dt\n"
     ]
    }
   ],
   "source": [
    "path_to_data = \"../level1/breaking-a-carbon-nanotube/breakable-bonds/\"\n",
    "u = mda.Universe(path_to_data + \"cnt_deformed.data\", \n",
    "                 path_to_data + \"dump.lammpstrj\",\n",
    "                 topology_format=\"data\",\n",
    "                 format=\"lammpsdump\",\n",
    "                 atom_style='id type x y z',\n",
    "                 guess_bonds=True, vdwradii={'1':1.7})"
   ]
  },
  {
   "cell_type": "code",
   "execution_count": 3,
   "metadata": {},
   "outputs": [],
   "source": [
    "cnt = u.select_atoms(\"type 1\")"
   ]
  },
  {
   "cell_type": "code",
   "execution_count": 4,
   "metadata": {},
   "outputs": [],
   "source": [
    "lbond_vs_frame = []\n",
    "nbond_vs_frame = []\n",
    "for ts in u.trajectory:\n",
    "    frame = ts.frame\n",
    "    all_bonds_ts = []\n",
    "    for id1, id2 in cnt.atoms.bonds.indices:\n",
    "        pos1 = u.atoms.positions[u.atoms.indices == id1]\n",
    "        pos2 = u.atoms.positions[u.atoms.indices == id2]\n",
    "        r = np.sqrt(np.sum((pos1-pos2)**2))\n",
    "        if r < 1.8:\n",
    "            all_bonds_ts.append(r)\n",
    "    mean_length_bonds = np.mean(all_bonds_ts)\n",
    "    number_of_bond = len(all_bonds_ts)/2 # divide by 2 to avoid counting twice\n",
    "    lbond_vs_frame.append([frame, mean_length_bonds]) \n",
    "    nbond_vs_frame.append([frame, number_of_bond])"
   ]
  },
  {
   "cell_type": "code",
   "execution_count": null,
   "metadata": {},
   "outputs": [],
   "source": [
    "np.savetxt(\"number_bond_vs_time.dat\", nbond_vs_frame)\n",
    "np.savetxt(\"length_bond_vs_time.dat\", lbond_vs_frame)"
   ]
  },
  {
   "cell_type": "code",
   "execution_count": null,
   "metadata": {},
   "outputs": [],
   "source": [
    "bond_length_distributions = []\n",
    "for ts in u.trajectory:\n",
    "    all_bonds_ts = []\n",
    "    for id1, id2 in cnt.atoms.bonds.indices:\n",
    "        pos1 = u.atoms.positions[u.atoms.indices == id1]\n",
    "        pos2 = u.atoms.positions[u.atoms.indices == id2]\n",
    "        r = np.sqrt(np.sum((pos1-pos2)**2))\n",
    "        if r < 1.8:\n",
    "            all_bonds_ts.append(r)\n",
    "    if frame > 0: # ignore the first frame\n",
    "        histo, r_val = np.histogram(all_bonds_ts, bins=50, range=(1.3, 1.65))\n",
    "        r_val = (r_val[1:]+r_val[:-1])/2\n",
    "        bond_length_distributions.append(np.vstack([r_val, histo]))\n",
    "starting_distribution = np.mean(bond_length_distributions[0:20], axis=0)\n",
    "end_distribution = np.mean(bond_length_distributions[200:220], axis=0)"
   ]
  },
  {
   "cell_type": "code",
   "execution_count": null,
   "metadata": {},
   "outputs": [],
   "source": [
    "np.savetxt(\"starting_bond_distribution.dat\", starting_distribution.T)\n",
    "np.savetxt(\"ending_bond_distribution.dat\", end_distribution.T)"
   ]
  }
 ],
 "metadata": {
  "kernelspec": {
   "display_name": "Python 3.8.10 64-bit",
   "language": "python",
   "name": "python3"
  },
  "language_info": {
   "codemirror_mode": {
    "name": "ipython",
    "version": 3
   },
   "file_extension": ".py",
   "mimetype": "text/x-python",
   "name": "python",
   "nbconvert_exporter": "python",
   "pygments_lexer": "ipython3",
   "version": "3.11.4"
  },
  "vscode": {
   "interpreter": {
    "hash": "916dbcbb3f70747c44a77c7bcd40155683ae19c65e1c03b4aa3499c5328201f1"
   }
  }
 },
 "nbformat": 4,
 "nbformat_minor": 4
}
