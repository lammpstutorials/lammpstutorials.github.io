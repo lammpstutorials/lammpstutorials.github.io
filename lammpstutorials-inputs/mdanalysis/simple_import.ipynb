{
 "cells": [
  {
   "cell_type": "code",
   "execution_count": 7,
   "metadata": {},
   "outputs": [],
   "source": [
    "from MDAnalysis.analysis.hydrogenbonds.hbond_analysis import HydrogenBondAnalysis as HBA\n",
    "import MDAnalysis as mda\n",
    "import numpy as np"
   ]
  },
  {
   "cell_type": "code",
   "execution_count": 8,
   "metadata": {},
   "outputs": [],
   "source": [
    "path_to_data = \"../level2/polymer-in-water/mergePEGH2O/\"\n",
    "u = mda.Universe(path_to_data + \"mix.data\", \n",
    "                 path_to_data + \"dump.lammpstrj\",\n",
    "                 topology_format=\"data\",\n",
    "                 format=\"lammpsdump\")"
   ]
  },
  {
   "cell_type": "code",
   "execution_count": 9,
   "metadata": {},
   "outputs": [],
   "source": [
    "peg = u.select_atoms(\"type 1 2 3 4 5 6 7\")\n",
    "h2o = u.select_atoms(\"type 8 9\")"
   ]
  },
  {
   "cell_type": "code",
   "execution_count": 10,
   "metadata": {},
   "outputs": [
    {
     "name": "stdout",
     "output_type": "stream",
     "text": [
      "atoms in peg: 101\n",
      "atoms in h2o: 3045\n"
     ]
    }
   ],
   "source": [
    "print(\"atoms in peg:\", peg.atoms.n_atoms)\n",
    "print(\"atoms in h2o:\", h2o.atoms.n_atoms)"
   ]
  },
  {
   "cell_type": "code",
   "execution_count": 11,
   "metadata": {},
   "outputs": [
    {
     "name": "stdout",
     "output_type": "stream",
     "text": [
      "Atom id: 3151 type: 4 mass: 1.008 g/mol charge: 0.19 e\n",
      "Atom id: 3152 type: 6 mass: 15.9994 g/mol charge: -0.31 e\n",
      "Atom id: 3153 type: 5 mass: 12.011 g/mol charge: 0.06 e\n",
      "Atom id: 3154 type: 3 mass: 1.008 g/mol charge: 0.05 e\n",
      "Atom id: 3155 type: 3 mass: 1.008 g/mol charge: 0.05 e\n",
      "Atom id: 3156 type: 2 mass: 12.011 g/mol charge: 0.02 e\n"
     ]
    }
   ],
   "source": [
    "for atom in peg[:6]:\n",
    "    id = atom.id\n",
    "    type = atom.type\n",
    "    mass = atom.mass\n",
    "    charge = np.round(atom.charge,2)\n",
    "    print(\"Atom id:\", id, \"type:\", type, \"mass:\", mass, \"g/mol charge:\", charge, \"e\")"
   ]
  },
  {
   "cell_type": "code",
   "execution_count": 12,
   "metadata": {},
   "outputs": [],
   "source": [
    "atom1 = peg[0]\n",
    "position_vs_time = []\n",
    "for ts in u.trajectory:\n",
    "    x, y, z = atom1.position\n",
    "    position_vs_time.append([ts.frame, x, y, z])\n",
    "np.savetxt(\"position_vs_time.dat\", np.array(position_vs_time))"
   ]
  }
 ],
 "metadata": {
  "kernelspec": {
   "display_name": "Python 3.8.10 64-bit",
   "language": "python",
   "name": "python3"
  },
  "language_info": {
   "codemirror_mode": {
    "name": "ipython",
    "version": 3
   },
   "file_extension": ".py",
   "mimetype": "text/x-python",
   "name": "python",
   "nbconvert_exporter": "python",
   "pygments_lexer": "ipython3",
   "version": "3.11.4"
  },
  "vscode": {
   "interpreter": {
    "hash": "916dbcbb3f70747c44a77c7bcd40155683ae19c65e1c03b4aa3499c5328201f1"
   }
  }
 },
 "nbformat": 4,
 "nbformat_minor": 4
}
