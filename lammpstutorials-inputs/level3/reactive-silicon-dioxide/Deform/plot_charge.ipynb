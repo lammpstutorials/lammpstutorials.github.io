{
 "cells": [
  {
   "cell_type": "code",
   "execution_count": null,
   "id": "9e485e34",
   "metadata": {},
   "outputs": [],
   "source": [
    "import numpy as np\n",
    "import sys, os, git, lammps_logfile\n",
    "from matplotlib import pyplot as plt"
   ]
  },
  {
   "cell_type": "code",
   "execution_count": null,
   "id": "c6c8de96",
   "metadata": {},
   "outputs": [],
   "source": [
    "current_path = os.getcwd()\n",
    "git_repo = git.Repo(current_path, search_parent_directories=True)\n",
    "git_path = git_repo.git.rev_parse(\"--show-toplevel\")\n",
    "sys.path.append(git_path+\"/docs/inputs/shared-pyplot-files/\")\n",
    "from pyplot_parameters import colors, complete_panel, save_figure, set_boundaries, \\\n",
    "                              add_subplotlabels\n",
    "path_in_folder = current_path[len(git_path)+1:]\n",
    "level = path_in_folder.split(\"/\")[2][-1]\n",
    "tutorial_name = path_in_folder.split(\"/\")[3]\n",
    "path_figures = \"/docs/sphinx/source/tutorials/figures/level\" + level + \"/\" + tutorial_name + \"/\"\n",
    "print(\"level:\" , level, \"& tutorial name:\", tutorial_name)\n",
    "print(\"figures will be saved in\", path_figures)"
   ]
  },
  {
   "cell_type": "code",
   "execution_count": null,
   "id": "5854bcce",
   "metadata": {},
   "outputs": [],
   "source": [
    "log = lammps_logfile.File(\"log.lammps\")\n",
    "step = log.get(\"Step\")\n",
    "temp = log.get(\"Temp\")\n",
    "qSi = log.get(\"v_qSi\")\n",
    "qO = log.get(\"v_qO\")\n",
    "Volume = log.get(\"Volume\")\n",
    "timestep = 0.5\n",
    "time = step*timestep"
   ]
  },
  {
   "cell_type": "code",
   "execution_count": null,
   "id": "6b3cfb0b",
   "metadata": {},
   "outputs": [],
   "source": [
    "filename = \"deformed-charge\"\n",
    "for mode, mygray in zip(['light', 'dark'], [colors[\"lightgray\"], colors[\"darkgray\"]]):    \n",
    "    fig = plt.figure(figsize=(18,10))\n",
    "    ax, n, l_tot, c_tot = [], 0, 2, 1\n",
    "    n += 1\n",
    "    ax.append(plt.subplot(l_tot, c_tot, n))\n",
    "    ax[-1].plot(time/1000, qSi, color=colors[\"myblue\"], linewidth=3)\n",
    "    complete_panel(ax[-1], None, r'$q_\\textrm{Si}$ (e)', legend=False, axis_color=mygray)\n",
    "    x = np.linspace(1.5, 1.9)\n",
    "    ax[-1].plot(x*0+2.5, x, '--', color=mygray, linewidth=3)\n",
    "    x = np.linspace(0, 15)\n",
    "    ax[-1].plot(x, x*0+1.875, '.', color=colors[\"myblue\"])\n",
    "    set_boundaries(plt, x_ticks=np.arange(0, 16, 2.5), y_ticks=np.arange(1.5, 2, 0.1))\n",
    "    n += 1\n",
    "    ax.append(plt.subplot(l_tot, c_tot, n))\n",
    "    ax[-1].plot(time/1000, qO, color=colors[\"myorange\"], linewidth=3)\n",
    "    complete_panel(ax[-1], r'time (ps)', r'$q_\\textrm{O}$ (e)', legend=False, axis_color=mygray)\n",
    "    x = np.linspace(-1, -0.7)\n",
    "    ax[-1].plot(x*0+2.5, x, '--', color=mygray, linewidth=3)\n",
    "    x = np.linspace(0, 15)\n",
    "    ax[-1].plot(x, x*0-0.934, '.', color=colors[\"myorange\"])\n",
    "    set_boundaries(plt, x_ticks=np.arange(0, 16, 2.5), y_ticks=np.arange(-1, -0.7, 0.1))\n",
    "    add_subplotlabels(fig, ax, [\"a\", \"b\"], color=mygray)\n",
    "    save_figure(fig, mode, git_path, path_figures, filename)"
   ]
  },
  {
   "cell_type": "code",
   "execution_count": 75,
   "id": "cdd48c97",
   "metadata": {},
   "outputs": [
    {
     "name": "stderr",
     "output_type": "stream",
     "text": [
      "Locator attempting to generate 19922 ticks ([1.55, ..., 997.6000000000008]), which exceeds Locator.MAXTICKS (1000).\n",
      "Locator attempting to generate 19922 ticks ([1.55, ..., 997.6000000000008]), which exceeds Locator.MAXTICKS (1000).\n",
      "Locator attempting to generate 19922 ticks ([1.55, ..., 997.6000000000008]), which exceeds Locator.MAXTICKS (1000).\n",
      "Locator attempting to generate 19922 ticks ([1.55, ..., 997.6000000000008]), which exceeds Locator.MAXTICKS (1000).\n",
      "Locator attempting to generate 19922 ticks ([1.55, ..., 997.6000000000008]), which exceeds Locator.MAXTICKS (1000).\n"
     ]
    }
   ],
   "source": [
    "filename = \"deformed-temperature\"\n",
    "for mode, mygray in zip(['light', 'dark'], [colors[\"lightgray\"], colors[\"darkgray\"]]):    \n",
    "    fig = plt.figure(figsize=(18,5))\n",
    "    ax, n, l_tot, c_tot = [], 0, 2, 1\n",
    "    n += 1\n",
    "    ax.append(plt.subplot(l_tot, c_tot, n))\n",
    "    ax[-1].plot(time/1000, temp, color=colors[\"myblue\"], linewidth=3)\n",
    "    complete_panel(ax[-1], r'time (ps)', r'$T$ (K)', legend=False, axis_color=mygray)\n",
    "    #set_boundaries(plt, x_ticks=np.arange(0, 16, 2.5), y_ticks=np.arange(1.5, 2, 0.1))\n",
    "    # add_subplotlabels(fig, ax, [\"a\", \"b\"], color=mygray)\n",
    "    save_figure(fig, mode, git_path, path_figures, filename)"
   ]
  }
 ],
 "metadata": {
  "kernelspec": {
   "display_name": "Python 3.10.6 64-bit",
   "language": "python",
   "name": "python3"
  },
  "language_info": {
   "codemirror_mode": {
    "name": "ipython",
    "version": 3
   },
   "file_extension": ".py",
   "mimetype": "text/x-python",
   "name": "python",
   "nbconvert_exporter": "python",
   "pygments_lexer": "ipython3",
   "version": "3.11.4"
  },
  "vscode": {
   "interpreter": {
    "hash": "916dbcbb3f70747c44a77c7bcd40155683ae19c65e1c03b4aa3499c5328201f1"
   }
  }
 },
 "nbformat": 4,
 "nbformat_minor": 5
}
