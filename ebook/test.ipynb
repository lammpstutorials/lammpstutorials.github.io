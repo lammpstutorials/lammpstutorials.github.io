{
 "cells": [
  {
   "cell_type": "code",
   "execution_count": 129,
   "metadata": {},
   "outputs": [],
   "source": [
    "import sys, os, git, rstparse"
   ]
  },
  {
   "cell_type": "code",
   "execution_count": 130,
   "metadata": {},
   "outputs": [],
   "source": [
    "current_path = os.getcwd()\n",
    "git_repo = git.Repo(current_path, search_parent_directories=True)\n",
    "git_path = git_repo.git.rev_parse(\"--show-toplevel\")\n",
    "sys.path.append(git_path+\"/docs/inputs/shared-pyplot-files/\")"
   ]
  },
  {
   "cell_type": "code",
   "execution_count": 131,
   "metadata": {},
   "outputs": [],
   "source": [
    "tutorials = {\"level0\": [\"lennard-jones-fluid\"],\n",
    "             \"level1\": [\"breaking-a-carbon-nanotube\"],\n",
    "             \"level2\": [\"polymer-in-water\", \"nanosheared-electrolyte\"],\n",
    "             \"level3\": [\"water-adsorption-in-silica\", \"free-energy-calculation\", \"reactive-silicon-dioxide\"]}"
   ]
  },
  {
   "cell_type": "code",
   "execution_count": 141,
   "metadata": {},
   "outputs": [],
   "source": [
    "class RSTtoTEX:\n",
    "    \"\"\"Read RST file and convert it to TEX file.\"\"\"\n",
    "    def __init__(self, file_name, *args, **kwargs,):\n",
    "        \"\"\"Initialize\"\"\"\n",
    "        super().__init__(*args, **kwargs)\n",
    "        self.file_name = file_name\n",
    "\n",
    "    def convert_file(self):\n",
    "        \"\"\"Main convert function.\"\"\"\n",
    "        self.read_rst()\n",
    "        self.loop_through_file()\n",
    "\n",
    "    def read_rst(self):\n",
    "        \"\"\"Convert the rst file into a list of strings\"\"\"\n",
    "        rst = rstparse.Parser()\n",
    "        with open(self.file_name) as f:\n",
    "            rst.read(f)\n",
    "        rst.parse()\n",
    "        file_content = []\n",
    "        for line in rst.lines:\n",
    "            file_content.append(line)\n",
    "        self.file_content = file_content\n",
    "\n",
    "    def loop_through_file(self):\n",
    "        \"\"\"Loop over the rst file and extract the positions of items\"\"\"\n",
    "        self.position_title = []\n",
    "        self.position_labels = []\n",
    "        self.position_hatnote = []\n",
    "        for n, line in enumerate(self.file_content):\n",
    "            self.detect_title_position(n, line)\n",
    "            self.detect_label_positions(n, line)\n",
    "            self.detect_hatnote_position(n, line)\n",
    "\n",
    "    def detect_title_position(self, n, line):\n",
    "        if line[:3] == \"***\":\n",
    "            self.position_title.append(n-1)\n",
    "\n",
    "    def detect_label_positions(self, n, line):\n",
    "        if len(line.split()) == 2:\n",
    "            if (line.split()[0] == '..') & (line.split()[1][0] == \"_\"):\n",
    "                self.position_labels.append(n)\n",
    "\n",
    "    def detect_hatnote_position(self, n, line):\n",
    "        if len(line.split()) == 3:\n",
    "            if (line.split()[0] == '..') & (line.split()[1][:-2] == \"container\") & (line.split()[2] == \"hatnote\"):\n",
    "                self.position_hatnote.append(n)"
   ]
  },
  {
   "cell_type": "code",
   "execution_count": 142,
   "metadata": {},
   "outputs": [],
   "source": [
    "for level in tutorials.keys():\n",
    "    for tutorial in tutorials[level]:\n",
    "        rst_file_name = git_path+'/docs/sphinx/source/tutorials/'+level+'/'+tutorial+'.rst'\n",
    "        RST = RSTtoTEX(file_name = rst_file_name)\n",
    "        RST.convert_file()"
   ]
  },
  {
   "cell_type": "code",
   "execution_count": 144,
   "metadata": {},
   "outputs": [
    {
     "data": {
      "text/plain": [
       "[5]"
      ]
     },
     "execution_count": 144,
     "metadata": {},
     "output_type": "execute_result"
    }
   ],
   "source": [
    "RST.position_hatnote"
   ]
  },
  {
   "cell_type": "code",
   "execution_count": 139,
   "metadata": {},
   "outputs": [
    {
     "data": {
      "text/plain": [
       "'hatnote'"
      ]
     },
     "execution_count": 139,
     "metadata": {},
     "output_type": "execute_result"
    }
   ],
   "source": [
    "line.split()[2]"
   ]
  },
  {
   "cell_type": "code",
   "execution_count": 36,
   "metadata": {},
   "outputs": [],
   "source": [
    "\n",
    "\n",
    "def find_title(rst_file):\n",
    "    title_line = []\n",
    "    for n, line in enumerate(rst_file):\n",
    "        if line[:3] == \"***\":\n",
    "            title_line.append(n)\n",
    "    assert len(title_line) == 1, \"\"\"More than one title was found\"\"\"\n",
    "    return rst_file[title_line[0]-1]\n",
    "\n",
    "def find_label(rst_file):\n",
    "    label_line = []\n",
    "    for n, line in enumerate(rst_file):\n",
    "        if line[:4] == \".. _\":\n",
    "            label_line.append(n)\n",
    "    assert rst_file[label_line[0]][4:-1][-6:] == \"-label\", \"\"\"Not a proper page label\"\"\"\n",
    "    return rst_file[label_line[0]][4:-1]\n",
    "\n",
    "def find_hatnote(rst_file):\n",
    "    find_hatnote = []\n",
    "    for n, line in enumerate(rst_file):\n",
    "        if line == \".. container:: hatnote\":\n",
    "            find_hatnote.append(n)\n",
    "    assert len(find_hatnote) == 1, \"\"\"More than one hatline was found\"\"\"\n",
    "    within_block = True\n",
    "    n = find_hatnote[0]+1\n",
    "    lines_in_block = []\n",
    "    while within_block:\n",
    "        line = rst_file[n]\n",
    "        n += 1\n",
    "        if line[:2] == '  ':\n",
    "            within_block = True\n",
    "            lines_in_block.append(line)\n",
    "        elif line == '':\n",
    "            pass\n",
    "        else:\n",
    "            within_block = False\n",
    "    return lines_in_block[0][3:]"
   ]
  },
  {
   "cell_type": "code",
   "execution_count": 37,
   "metadata": {},
   "outputs": [],
   "source": []
  },
  {
   "cell_type": "code",
   "execution_count": 38,
   "metadata": {},
   "outputs": [],
   "source": []
  },
  {
   "cell_type": "code",
   "execution_count": 39,
   "metadata": {},
   "outputs": [
    {
     "name": "stdout",
     "output_type": "stream",
     "text": [
      "The very basics of LAMMPS through a simple example\n",
      "Breaking the bonds of a carbon nanotube under deformation\n",
      "Stretching a small solvated molecule\n",
      "Aqueous NaCl solution sheared by two walls\n",
      "Dealing with a varying number of molecules\n",
      "Simple sampling of a free energy barrier using umbrella sampling\n",
      "Simulating a chemically reactive structure\n"
     ]
    }
   ],
   "source": [
    "\n",
    "        rst_file = read_rst(rst_file_name)\n",
    "        page_title = find_title(rst_file)\n",
    "        page_label = find_label(rst_file)\n",
    "        hatnote = find_hatnote(rst_file)\n",
    "\n",
    "        print(hatnote)"
   ]
  },
  {
   "cell_type": "code",
   "execution_count": 40,
   "metadata": {},
   "outputs": [],
   "source": [
    "find_justify = []\n",
    "for n, line in enumerate(rst_file):\n",
    "    if len(line.split(' ')) >= 4:\n",
    "        if (line.split(' ')[0] == '..') & (line.split(' ')[2] =='container::') & (line.split(' ')[3] =='justify'):\n",
    "            find_justify.append(n)\n",
    "all_lines_in_block = []\n",
    "for n in find_justify:\n",
    "    within_block = True\n",
    "    lines_in_block = []\n",
    "    while within_block:\n",
    "        n += 1\n",
    "        line = rst_file[n]\n",
    "        if line[:2] == '  ':\n",
    "            within_block = True\n",
    "            lines_in_block.append(line)\n",
    "        elif line == '':\n",
    "            lines_in_block.append('\\n')\n",
    "        else:\n",
    "            within_block = False\n",
    "    all_lines_in_block.append(lines_in_block)\n",
    "# return lines_in_block[0][3:]"
   ]
  },
  {
   "cell_type": "code",
   "execution_count": 41,
   "metadata": {},
   "outputs": [
    {
     "name": "stdout",
     "output_type": "stream",
     "text": [
      "['The objective of this tutorial is to use a molecular dynamics system made of silicon dioxide (SiO2), and deform it until it breaks. The reactive force field *reaxff* is used, and a particular attention is given to the evolution of the charges of the atoms during the deformation of the structure. ']\n",
      "['Create a folder, name it RelaxSilica/, and |download_silica_data| the initial topology of a small amorphous silica structure. The system was created by temperature annealing using another force field (|download_SiO.1990.vashishta|), therefore the structure is slightly different to what is expected from the reaxff force field. For instance, the average bond lengths, angles, and charges are likely to be different, and the structure needs to be relaxed again using reaxff. If you are interested, the input file used for creating the initial topology is available |lammps_input_creating|, but its description is not part of this tutorial. The Atoms section of the *silica.data* file starts like that: ']\n",
      "['Due to the use of vashishta force field for creating the initial configuration, all silicon atoms have the same charge q = 1.1e, and all oxygen atoms the charge q = -0.55e. This is common to most classical force field. Let us keep that in mind before we start using *reaxff*. The first step is to relax the structure, which we are gonna do using molecular dynamics. To make sure that the system equilibrates nicely, let us track the changes in our system over time. Create an input file called input.lammps in RelaxSilica/, and copy in it: ']\n",
      "['So far, the input is very similar to what is seen in the other tutorials here, with some basic parameters being defined (units, atom_style and masses), and the data file being imported by the *read_data* command. Now let us enter 3 crucial lines: ']\n",
      "['Here, the reaxff pair_style is used with no control file, and the *safezone* and *mincap* keywords have been added for memory allocation issue. If not there, the segmentation faults and bondchk failed errors sometimes occur. The pair_coeff uses the |reaxCHOFe| file which is assumed to be saved in the same folder as the input. The atoms of type 1 are set as silicon (Si), and type 2 as oxygen (O) in order to be consistent with the data file and mass definition. Finally, the fix *qeq/reaxff* is used to perform charge equilibration every timestep. The values 0 and 10.0 are low and high cutoffs, respectively, and 1.0e-6 a tolerance. Finally, maxiter sets a limit to the number of attempt to equilibrate the charge. ']\n",
      "['Then, let us use some (familiar) commands controlling the building of the neighbor lists. Let us also print thermodynamic information, the charge of both atom types, and create a dump file for visualization. ']\n",
      "['Let us perform a very short run using anisotropic NPT command and relax the density of the system. ']\n",
      "['As the simulation runs, you can see that the charges of the atoms are fluctuating, as the atoms adjust themselves to the topology: ']\n",
      "['Moreover, and because each atom adopts its own fluctuating charge value, the charges are distributed around a mean value: ']\n",
      "['Using VMD and coloring the atoms by their charges, one can see that the atoms with the extreme-most charges are located at defects in the amorphous structure (here at the positions of the dandling oxygen groups): ']\n",
      "['Note for VMD user: to color the atoms by their charge, use *Charge* as coloring method in the representation windows, and then tune the *Color scale* in the *Color control windows*. ']\n",
      "['Let us apply a deformation to the structure in order to force some bonds to dynamically break and reassemble. Next to RelaxSilica/, create a folder, call it Deform/ and create a file named input.lammps in it. Copy the following lines: ']\n",
      "['The main differences with the previous input are - the use of fix deform for elongating progressively the box along x, - the use of fix NVT instead of NPT (because the box deformation is already ensured by fix deform). After a first run of 25000 steps, a short run of 2000 steps is performed in order to extract the final charges of the atoms from an structure that is not under deformation. During the deformation, the charges progressively changes, until the structure eventually breaks up. After the structure breaks, the charges equilibrates near a new average value that differs from the starting charge, which is expected due to the presence of the new solid/vacuum interface: ']\n",
      "['At the end of the deformation, one can visualize the broken material. Notice the different charge of the atoms located near the interface and compared to the atoms located in the bulk of the material: ']\n",
      "['One O2 molecule was formed during the process (here appearing in green), most likely because the rate of deformation was really high. One can have a look at the final charge distribution: ']\n",
      "['The final charge distribution differs from the previously calculated, as a new peak near -0.5e for the oxygen. ']\n",
      "['Let us add more O2 molecule to our previously equilibrated structure, equilibrate it again, and extract the charge density profile along the x axis. Create a new folder, name it AddOxygen/, and create a new molecule file named O2.mol in it: ']\n",
      "['Here the O2 molecule is simply made of 2 oxygen (type 2) atoms that are not connected by any bond (because there is no need with reaxff). Then, create a new input.lammps file, and copy the same first lines as previously in it: ']\n",
      "['Optionally, let us shift the structure to recenter it in the box. The best value for the shift may be different in your case. This step is not necessary, but the recentered system looks better. ']\n",
      "['Then, let us import the molecule template O2.mol and create 10 molecules. The overlap and maxtry keywords allow us to prevent overlapping between the atoms: ']\n",
      "['The value of 3 Angstroms for the minimum interatomic overlapping is very safe for the present system. Smaller values may lead to molecules being too close from each others. Finally, let us minimize the energy of the system, and run for a relatively long time: ']\n",
      "['Run the simulation. You should see additional O2 molecules in the system: ']\n",
      "['Under ambient conditions, dandling oxygen are typically terminated by hydrogen atoms. Let us improve the current structure by decorating some of the dandling oxygen with hydrogen atoms, before relaxing it thanks to reaxff. Add hydrogen atoms to the dandling oxygens. Then relax the structure using reaxff with LAMMPS. Hydrogen atoms can be added using create_atoms command, gcmc, or external python script as I did here: ']\n"
     ]
    }
   ],
   "source": [
    "for block in all_lines_in_block:\n",
    "    assert block[0] == '\\n'\n",
    "    assert block[-1] == '\\n'\n",
    "    block = block[1:-1]\n",
    "\n",
    "    sentences = []\n",
    "    sentence = ''\n",
    "    for line in block:\n",
    "        words = line.split()\n",
    "        for word in words:\n",
    "            if word == '\\n':\n",
    "                sentences.append(sentence)\n",
    "                sentence = ''\n",
    "            else:\n",
    "                sentence += word + ' '\n",
    "    sentences.append(sentence)\n",
    "\n",
    "    print(sentences)"
   ]
  },
  {
   "cell_type": "code",
   "execution_count": null,
   "metadata": {},
   "outputs": [],
   "source": []
  },
  {
   "cell_type": "code",
   "execution_count": 42,
   "metadata": {},
   "outputs": [
    {
     "data": {
      "text/plain": [
       "['Under ambient conditions, dandling oxygen are typically terminated by hydrogen atoms. Let us improve the current structure by decorating some of the dandling oxygen with hydrogen atoms, before relaxing it thanks to reaxff. Add hydrogen atoms to the dandling oxygens. Then relax the structure using reaxff with LAMMPS. Hydrogen atoms can be added using create_atoms command, gcmc, or external python script as I did here: ']"
      ]
     },
     "execution_count": 42,
     "metadata": {},
     "output_type": "execute_result"
    }
   ],
   "source": [
    "sentences"
   ]
  },
  {
   "cell_type": "code",
   "execution_count": null,
   "metadata": {},
   "outputs": [],
   "source": []
  },
  {
   "cell_type": "code",
   "execution_count": null,
   "metadata": {},
   "outputs": [],
   "source": []
  },
  {
   "cell_type": "code",
   "execution_count": null,
   "metadata": {},
   "outputs": [],
   "source": [
    "\n"
   ]
  }
 ],
 "metadata": {
  "kernelspec": {
   "display_name": "Python 3",
   "language": "python",
   "name": "python3"
  },
  "language_info": {
   "codemirror_mode": {
    "name": "ipython",
    "version": 3
   },
   "file_extension": ".py",
   "mimetype": "text/x-python",
   "name": "python",
   "nbconvert_exporter": "python",
   "pygments_lexer": "ipython3",
   "version": "3.11.4"
  }
 },
 "nbformat": 4,
 "nbformat_minor": 2
}
