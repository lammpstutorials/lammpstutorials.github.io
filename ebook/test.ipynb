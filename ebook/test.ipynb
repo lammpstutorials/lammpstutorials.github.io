{
 "cells": [
  {
   "cell_type": "code",
   "execution_count": 1,
   "metadata": {},
   "outputs": [],
   "source": [
    "import sys, os, git\n",
    "import numpy as np"
   ]
  },
  {
   "cell_type": "code",
   "execution_count": 2,
   "metadata": {},
   "outputs": [],
   "source": [
    "from utilities import filter_block, ReadRST, WriteTex"
   ]
  },
  {
   "cell_type": "code",
   "execution_count": 3,
   "metadata": {},
   "outputs": [],
   "source": [
    "current_path = os.getcwd()\n",
    "git_repo = git.Repo(current_path, search_parent_directories=True)\n",
    "git_path = git_repo.git.rev_parse(\"--show-toplevel\")\n",
    "sys.path.append(git_path+\"/docs/inputs/shared-pyplot-files/\")\n",
    "if os.path.exists(git_path+'/ebook/tutorials') is False:\n",
    "    os.mkdir(git_path+'/ebook/tutorials')"
   ]
  },
  {
   "cell_type": "code",
   "execution_count": 4,
   "metadata": {},
   "outputs": [],
   "source": [
    "tutorials = {\"level0\": [\"lennard-jones-fluid\"], }\n",
    "             #\"level1\": [\"breaking-a-carbon-nanotube\"],\n",
    "             #\"level2\": [\"polymer-in-water\", \"nanosheared-electrolyte\"],\n",
    "             #\"level3\": [\"water-adsorption-in-silica\", \"free-energy-calculation\", \"reactive-silicon-dioxide\"]}"
   ]
  },
  {
   "cell_type": "code",
   "execution_count": 5,
   "metadata": {},
   "outputs": [],
   "source": [
    "for level in tutorials.keys():\n",
    "    if os.path.exists(git_path+'/ebook/tutorials/'+level) is False:\n",
    "        os.mkdir(git_path+'/ebook/tutorials/'+level)\n",
    "    for tutorial in tutorials[level]:\n",
    "        rst_file_name = git_path+'/docs/sphinx/source/tutorials/'+level+'/'+tutorial+'.rst'\n",
    "        tex_file_name = git_path+'/ebook/tutorials/'+level+'/'+tutorial+'.tex'\n",
    "        RST = ReadRST(rst_file_name)\n",
    "        RST.convert_file()\n",
    "        TEX = WriteTex(tex_file_name, RST, git_path)\n",
    "        TEX.convert_file()"
   ]
  }
 ],
 "metadata": {
  "kernelspec": {
   "display_name": "Python 3",
   "language": "python",
   "name": "python3"
  },
  "language_info": {
   "codemirror_mode": {
    "name": "ipython",
    "version": 3
   },
   "file_extension": ".py",
   "mimetype": "text/x-python",
   "name": "python",
   "nbconvert_exporter": "python",
   "pygments_lexer": "ipython3",
   "version": "3.11.4"
  }
 },
 "nbformat": 4,
 "nbformat_minor": 2
}
