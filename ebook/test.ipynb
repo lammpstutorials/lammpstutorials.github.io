{
 "cells": [
  {
   "cell_type": "code",
   "execution_count": 1,
   "metadata": {},
   "outputs": [],
   "source": [
    "import sys, os, git, rstparse"
   ]
  },
  {
   "cell_type": "code",
   "execution_count": 2,
   "metadata": {},
   "outputs": [],
   "source": [
    "from utilities import detect_block, block_to_sentence"
   ]
  },
  {
   "cell_type": "code",
   "execution_count": 3,
   "metadata": {},
   "outputs": [],
   "source": [
    "current_path = os.getcwd()\n",
    "git_repo = git.Repo(current_path, search_parent_directories=True)\n",
    "git_path = git_repo.git.rev_parse(\"--show-toplevel\")\n",
    "sys.path.append(git_path+\"/docs/inputs/shared-pyplot-files/\")"
   ]
  },
  {
   "cell_type": "code",
   "execution_count": 4,
   "metadata": {},
   "outputs": [],
   "source": [
    "tutorials = {\"level0\": [\"lennard-jones-fluid\"], }\n",
    "             #\"level1\": [\"breaking-a-carbon-nanotube\"],\n",
    "             #\"level2\": [\"polymer-in-water\", \"nanosheared-electrolyte\"],\n",
    "             #\"level3\": [\"water-adsorption-in-silica\", \"free-energy-calculation\", \"reactive-silicon-dioxide\"]}"
   ]
  },
  {
   "cell_type": "code",
   "execution_count": 9,
   "metadata": {},
   "outputs": [],
   "source": [
    "class RSTtoTEX:\n",
    "    \"\"\"Read RST file and convert it to TEX file.\"\"\"\n",
    "    def __init__(self, file_name, *args, **kwargs,):\n",
    "        \"\"\"Initialize\"\"\"\n",
    "        super().__init__(*args, **kwargs)\n",
    "        self.file_name = file_name\n",
    "\n",
    "    def convert_file(self):\n",
    "        \"\"\"Main convert function.\"\"\"\n",
    "        self.read_rst()\n",
    "        self.loop_through_file()\n",
    "\n",
    "    def read_rst(self):\n",
    "        \"\"\"Convert the rst file into a list of strings\"\"\"\n",
    "        rst = rstparse.Parser()\n",
    "        with open(self.file_name) as f:\n",
    "            rst.read(f)\n",
    "        rst.parse()\n",
    "        file_content = []\n",
    "        for line in rst.lines:\n",
    "            file_content.append(line)\n",
    "        self.file_content = file_content\n",
    "\n",
    "    def loop_through_file(self):\n",
    "        \"\"\"Loop over the rst file and extract the positions of items\"\"\"\n",
    "        self.position_title = []\n",
    "        self.position_labels = []\n",
    "        self.position_hatnote = []\n",
    "        self.position_paragraph = []\n",
    "        for n, line in enumerate(self.file_content):\n",
    "            self.detect_title_position(n, line)\n",
    "            self.detect_label_position(n, line)\n",
    "            self.detect_hatnote_position(n, line)\n",
    "            self.detect_paragraph_position(n, line)\n",
    "        self.detect_title()\n",
    "        self.detect_label()\n",
    "        self.detect_hatnote()\n",
    "        self.detect_paragraph()\n",
    "\n",
    "    def detect_title_position(self, n, line):\n",
    "        if line[:3] == \"***\":\n",
    "            self.position_title.append(n-1)\n",
    "\n",
    "    def detect_title(self):\n",
    "        if len(self.position_title) > 1:\n",
    "            print(\"More than one title was found in\", self.title)\n",
    "        self.title = self.file_content[self.position_title[0]]\n",
    "\n",
    "    def detect_label_position(self, n, line):\n",
    "        if len(line.split()) == 2:\n",
    "            if (line.split()[0] == '..') & (line.split()[1][0] == \"_\"):\n",
    "                self.position_labels.append(n)\n",
    "\n",
    "    def detect_label(self):\n",
    "        if len(self.position_labels) > 1:\n",
    "            print(\"More than one label was found in\", self.title)\n",
    "        self.label = self.file_content[self.position_labels[0]]\n",
    "\n",
    "    def detect_hatnote_position(self, n, line):\n",
    "        if len(line.split()) == 3:\n",
    "            if (line.split()[0] == '..') & (line.split()[1][:-2] == \"container\") & (line.split()[2] == \"hatnote\"):\n",
    "                self.position_hatnote.append(n)\n",
    "\n",
    "    def detect_hatnote(self):\n",
    "        if len(self.position_hatnote) > 1:\n",
    "            print(\"More than one hatnote was found in\", self.title)\n",
    "        n = self.position_hatnote[0]\n",
    "        line = detect_block(n+1, self.file_content)\n",
    "        self.hatnote = block_to_sentence(line)[0]\n",
    "\n",
    "    def detect_paragraph_position(self, n, line):\n",
    "        if len(line.split()) == 3:\n",
    "            if (line.split()[0] == '..') & (line.split()[1][:-2] == \"container\") & (line.split()[2] == \"justify\"):\n",
    "                self.position_paragraph.append(n)\n",
    "\n",
    "    def detect_paragraph(self):\n",
    "        paragraphs = []\n",
    "        for n in self.position_paragraph:\n",
    "            paragraph = detect_block(n+1, self.file_content)\n",
    "            paragraphs.append(block_to_sentence(paragraph))\n",
    "        self.paragraphs = paragraphs"
   ]
  },
  {
   "cell_type": "code",
   "execution_count": 10,
   "metadata": {},
   "outputs": [],
   "source": [
    "for level in tutorials.keys():\n",
    "    for tutorial in tutorials[level]:\n",
    "        rst_file_name = git_path+'/docs/sphinx/source/tutorials/'+level+'/'+tutorial+'.rst'\n",
    "        RST = RSTtoTEX(file_name = rst_file_name)\n",
    "        RST.convert_file()\n",
    "    # print('\\n')"
   ]
  },
  {
   "cell_type": "code",
   "execution_count": null,
   "metadata": {},
   "outputs": [],
   "source": []
  },
  {
   "cell_type": "code",
   "execution_count": null,
   "metadata": {},
   "outputs": [],
   "source": []
  },
  {
   "cell_type": "code",
   "execution_count": null,
   "metadata": {},
   "outputs": [],
   "source": []
  },
  {
   "cell_type": "code",
   "execution_count": null,
   "metadata": {},
   "outputs": [],
   "source": []
  },
  {
   "cell_type": "code",
   "execution_count": null,
   "metadata": {},
   "outputs": [],
   "source": [
    "\n"
   ]
  }
 ],
 "metadata": {
  "kernelspec": {
   "display_name": "Python 3",
   "language": "python",
   "name": "python3"
  },
  "language_info": {
   "codemirror_mode": {
    "name": "ipython",
    "version": 3
   },
   "file_extension": ".py",
   "mimetype": "text/x-python",
   "name": "python",
   "nbconvert_exporter": "python",
   "pygments_lexer": "ipython3",
   "version": "3.11.4"
  }
 },
 "nbformat": 4,
 "nbformat_minor": 2
}
