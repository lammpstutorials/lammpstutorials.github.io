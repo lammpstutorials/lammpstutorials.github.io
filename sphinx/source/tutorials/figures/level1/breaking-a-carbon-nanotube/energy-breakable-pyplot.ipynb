{
 "cells": [
  {
   "cell_type": "code",
   "execution_count": null,
   "id": "9e485e34",
   "metadata": {},
   "outputs": [],
   "source": [
    "import numpy as np\n",
    "import sys, os, git, lammps_logfile\n",
    "from matplotlib import pyplot as plt"
   ]
  },
  {
   "cell_type": "code",
   "execution_count": null,
   "id": "a262ddfb",
   "metadata": {},
   "outputs": [],
   "source": [
    "current_path = os.getcwd()\n",
    "git_repo = git.Repo(current_path, search_parent_directories=True)\n",
    "git_path = git_repo.git.rev_parse(\"--show-toplevel\")\n",
    "path_in_folder = current_path[len(git_path)+1:]\n",
    "level = path_in_folder.split(\"/\")[-2]\n",
    "tutorial_name = path_in_folder.split(\"/\")[-1]\n",
    "print(\"level:\" , level, \"& tutorial name:\", tutorial_name)\n",
    "sys.path.append(git_path + \"/docs/sphinx/source/tutorials/figures/pyplot-perso/\")\n",
    "from functions import complete_panel, save_figure, set_boundaries, \\\n",
    "                      add_subplotlabels, set_boundaries, prepare_figure\n",
    "from color_series1 import colors\n",
    "path_figures = current_path[len(git_path):] + '/'\n",
    "data_path = git_path + \"/docs/lammpstutorials-inputs/\" + level + \"/\" + tutorial_name + \"/breakable-bonds/\"\n",
    "print(\"data path: \", data_path)"
   ]
  },
  {
   "cell_type": "code",
   "execution_count": null,
   "id": "f3edac88",
   "metadata": {},
   "outputs": [],
   "source": [
    "log = lammps_logfile.File(data_path + \"log.lammps\")\n",
    "time_0 = log.get(\"Step\", run_num=0)\n",
    "energy_0 = log.get(\"TotEng\", run_num=0) # Kcal/mol\n",
    "time_1 = log.get(\"Step\", run_num=1)\n",
    "energy_1 = log.get(\"TotEng\", run_num=1) # Kcal/mol\n",
    "time_0 /= 2000 # ps\n",
    "time_1 /= 2000 # ps"
   ]
  },
  {
   "cell_type": "code",
   "execution_count": null,
   "id": "42e4386d",
   "metadata": {},
   "outputs": [],
   "source": [
    "filename = \"energy-breakable\"\n",
    "for mode, mygray in zip(['light', 'dark'], [colors[\"mylightgray\"], colors[\"mydarkgray\"]]):    \n",
    "    fig = prepare_figure(mode, transparency = True, desired_figsize=(18,5))\n",
    "    ax, n, l_tot, c_tot = [], 0, 1, 1\n",
    "    n += 1\n",
    "    ax.append(plt.subplot(l_tot, c_tot, n))\n",
    "    ax[-1].plot(time_0, energy_0, color=colors[\"myorange\"], linewidth=3.5)\n",
    "    ax[-1].plot(time_1, energy_1, color=colors[\"myblue\"], linewidth=3.5)\n",
    "    complete_panel(ax[-1], r'$t~\\mathrm{(ps)}$', r'$E_\\mathrm{tot} ~ \\mathrm{(Kcal/mol)}$',\n",
    "                   legend=False, axis_color=mygray, xpad=8)\n",
    "    set_boundaries(plt, x_ticks=np.arange(0, 160, 50), y_ticks=np.arange(-5000, -3500, 500),\n",
    "                   x_boundaries=(-10, 160), y_boundaries=(-5050, -3950))\n",
    "    save_figure(plt, fig, mode, git_path, path_figures, filename)"
   ]
  },
  {
   "cell_type": "code",
   "execution_count": null,
   "id": "22b066e0",
   "metadata": {},
   "outputs": [],
   "source": [
    "filename = \"energy-breakable-article\"\n",
    "mode = 'light'\n",
    "mygray = colors[\"mylightgray\"]\n",
    "fig = prepare_figure(mode, transparency = False, desired_figsize=(12,5), serif=False)\n",
    "ax, n, l_tot, c_tot = [], 0, 1, 1\n",
    "n += 1\n",
    "ax.append(plt.subplot(l_tot, c_tot, n))\n",
    "ax[-1].plot(time_0[::2], energy_0[::2]/1000, 'o', color=colors[\"unisoncyan\"], linewidth=3.5, markersize=12)\n",
    "x = np.linspace(-6, -3)\n",
    "ax[-1].plot(x*0+5, x, \"--\", color=colors[\"mylightgray\"], markersize=12, linewidth=3.5)\n",
    "ax[-1].plot(time_1[::6], energy_1[::6]/1000, 'o', color=colors[\"unisoncyan\"], linewidth=3.5,  markersize=12)\n",
    "complete_panel(ax[-1], r'$t~\\mathrm{(ps)}$', r'$E_\\mathrm{tot} ~ \\mathrm{(kcal/mol)}$',\n",
    "                legend=False, axis_color=mygray, xpad=8)\n",
    "set_boundaries(plt, x_ticks=np.arange(0, 160, 50), y_ticks=np.arange(-5, -3.5, 0.5),\n",
    "                x_boundaries=(-10, 160), y_boundaries=(-5.050, -3.950))\n",
    "save_figure(plt, fig, mode, git_path, path_figures, filename)"
   ]
  }
 ],
 "metadata": {
  "kernelspec": {
   "display_name": "Python 3.10.6 64-bit",
   "language": "python",
   "name": "python3"
  },
  "language_info": {
   "codemirror_mode": {
    "name": "ipython",
    "version": 3
   },
   "file_extension": ".py",
   "mimetype": "text/x-python",
   "name": "python",
   "nbconvert_exporter": "python",
   "pygments_lexer": "ipython3",
   "version": "3.12.3"
  },
  "vscode": {
   "interpreter": {
    "hash": "916dbcbb3f70747c44a77c7bcd40155683ae19c65e1c03b4aa3499c5328201f1"
   }
  }
 },
 "nbformat": 4,
 "nbformat_minor": 5
}
